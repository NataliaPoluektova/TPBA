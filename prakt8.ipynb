{
  "nbformat": 4,
  "nbformat_minor": 0,
  "metadata": {
    "colab": {
      "provenance": [],
      "authorship_tag": "ABX9TyNR0WO/h41QYl6sKK7JLgb8",
      "include_colab_link": true
    },
    "kernelspec": {
      "name": "python3",
      "display_name": "Python 3"
    },
    "language_info": {
      "name": "python"
    }
  },
  "cells": [
    {
      "cell_type": "markdown",
      "metadata": {
        "id": "view-in-github",
        "colab_type": "text"
      },
      "source": [
        "<a href=\"https://colab.research.google.com/github/NataliaPoluektova/TPBA/blob/main/prakt8.ipynb\" target=\"_parent\"><img src=\"https://colab.research.google.com/assets/colab-badge.svg\" alt=\"Open In Colab\"/></a>"
      ]
    },
    {
      "cell_type": "markdown",
      "metadata": {
        "id": "iDMmyJgb1orq"
      },
      "source": [
        "# Практична робота №8\n",
        "**Тема:** Агрегування даних та групові операції\n",
        "\n",
        "## Мета роботи\n",
        "1. Навчитися групувати дані та розраховувати агреговані показники.\n",
        "\n",
        "Для використання DataFrame потрібно імпортувати бібліотеку pandas"
      ]
    },
    {
      "cell_type": "code",
      "source": [
        "import pandas as pd\n"
      ],
      "metadata": {
        "id": "rl1hrINdEJis"
      },
      "execution_count": 1,
      "outputs": []
    },
    {
      "cell_type": "markdown",
      "source": [
        "**Завдання 1. Середній чек по категоріях товарів**\n",
        "Файл Sales1.csv Колонки: Рік, Квартал, Місто, Категорія_товару, Продажі, Кількість_транзакцій, Середній_чек, Знижки\n",
        "\n",
        "groupby(\"Категорія_товару\") — розщеплення по категоріях\n",
        "\n",
        ".mean() — обчислення середнього чека\n",
        "\n",
        "Виконайте код нижче:"
      ],
      "metadata": {
        "id": "0QdfncmD3KPH"
      }
    },
    {
      "cell_type": "code",
      "source": [
        "# Завантаження даних\n",
        "df = pd.read_csv(\"https://raw.githubusercontent.com/NataliaPoluektova/TPBA/refs/heads/main/Sales1.csv\",sep=\";\")\n",
        "\n",
        "# Групування по категорії товару\n",
        "avg_check = df.groupby(\"Категорія_товару\")[\"Середній_чек\"].mean()\n",
        "print(avg_check)"
      ],
      "metadata": {
        "id": "4YGjXP6F1tQe",
        "outputId": "4f332898-6d0c-4cae-d272-23b4fff208aa",
        "colab": {
          "base_uri": "https://localhost:8080/"
        }
      },
      "execution_count": 4,
      "outputs": [
        {
          "output_type": "stream",
          "name": "stdout",
          "text": [
            "Категорія_товару\n",
            "Електроніка    428.00\n",
            "Одяг           237.70\n",
            "Продукти       191.96\n",
            "Name: Середній_чек, dtype: float64\n"
          ]
        }
      ]
    },
    {
      "cell_type": "markdown",
      "source": [
        "**Завдання для самостійного виконання:**\n",
        "Знайдіть середній чек по кожному місту."
      ],
      "metadata": {
        "id": "u8PADa_B3eud"
      }
    },
    {
      "cell_type": "code",
      "source": [
        "# Ваш код тут"
      ],
      "metadata": {
        "id": "Z1ZX5GH03rko"
      },
      "execution_count": null,
      "outputs": []
    },
    {
      "cell_type": "markdown",
      "source": [
        "Ваши висновки тут:"
      ],
      "metadata": {
        "id": "-2S2jhIpCP5J"
      }
    },
    {
      "cell_type": "markdown",
      "source": [
        "**Задача 2: Загальні продажі по роках і містах**\n",
        "\n",
        "Групування по двох ознаках\n",
        "\n",
        ".sum() — сума продажів у кожній комбінації\n",
        "\n",
        "Виконайте приклад нижче:"
      ],
      "metadata": {
        "id": "Cn6x7RIo3wnR"
      }
    },
    {
      "cell_type": "code",
      "source": [
        "# Завантаження даних\n",
        "total_sales = df.groupby([\"Рік\", \"Місто\"])[\"Продажі\"].sum()\n",
        "print(total_sales)"
      ],
      "metadata": {
        "id": "5VXtaFiI3-MH",
        "collapsed": true,
        "outputId": "2da57791-3b17-4c9b-b3eb-eca5eec97afc",
        "colab": {
          "base_uri": "https://localhost:8080/"
        }
      },
      "execution_count": 5,
      "outputs": [
        {
          "output_type": "stream",
          "name": "stdout",
          "text": [
            "Рік   Місто \n",
            "2023  Київ      289000\n",
            "      Львів     124000\n",
            "      Одеса      87000\n",
            "      Харків    152000\n",
            "2024  Київ      198000\n",
            "      Львів     148000\n",
            "      Одеса     134000\n",
            "      Харків    197000\n",
            "Name: Продажі, dtype: int64\n"
          ]
        }
      ]
    },
    {
      "cell_type": "markdown",
      "source": [
        "**Завдання для самостійного виконання:** Знайдіть загальні продажі по кварталах і категоріях товарів."
      ],
      "metadata": {
        "id": "jfx47kuh4EK2"
      }
    },
    {
      "cell_type": "code",
      "source": [
        "#Ваш код тут:"
      ],
      "metadata": {
        "id": "vKeFzWxr4LHk"
      },
      "execution_count": null,
      "outputs": []
    },
    {
      "cell_type": "markdown",
      "source": [
        "Ваши висновки тут:"
      ],
      "metadata": {
        "id": "YJnlLJcvDQ6s"
      }
    },
    {
      "cell_type": "markdown",
      "source": [
        "**Задача 3. Продажі по категоріях — середнє, максимум, стандартне відхилення**\n",
        ".agg([...]) дозволяє застосувати кілька функцій одночасно\n",
        "\n",
        "Виконайте приклад нижче:"
      ],
      "metadata": {
        "id": "-K7eI7fK4OYX"
      }
    },
    {
      "cell_type": "code",
      "source": [
        "stats = df.groupby(\"Категорія_товару\")[\"Продажі\"].agg([\"mean\", \"max\", \"std\"])\n",
        "print(stats)"
      ],
      "metadata": {
        "id": "YCjvL9DV4lgp",
        "outputId": "05fc47c5-a93b-4b38-a38c-1521214858a7",
        "colab": {
          "base_uri": "https://localhost:8080/"
        }
      },
      "execution_count": 6,
      "outputs": [
        {
          "output_type": "stream",
          "name": "stdout",
          "text": [
            "                      mean     max           std\n",
            "Категорія_товару                                \n",
            "Електроніка       105800.0  132000  21016.660058\n",
            "Одяг               56000.0   66000   7127.411872\n",
            "Продукти           92800.0  103000  11819.475454\n"
          ]
        }
      ]
    },
    {
      "cell_type": "markdown",
      "source": [
        "**Завдання для самостійного виконання:** Знайдіть середнє, мінімальне та медіанне значення кількості транзакцій по містах."
      ],
      "metadata": {
        "id": "EHctIPlh4ppY"
      }
    },
    {
      "cell_type": "code",
      "source": [
        "#Ваш код тут:"
      ],
      "metadata": {
        "id": "9qMUBenO46Co"
      },
      "execution_count": null,
      "outputs": []
    },
    {
      "cell_type": "markdown",
      "source": [
        "Ваши висновки тут:"
      ],
      "metadata": {
        "id": "yeELx-e8F2ht"
      }
    },
    {
      "cell_type": "markdown",
      "source": [
        "**Задача 4: Знайти коефіцієнт ефективності продажів = Продажі / Кількість транзакцій**\n",
        "\n",
        "apply() дозволяє застосувати власну функцію до кожної групи\n",
        "\n",
        "Виконайте приклад нижче\n"
      ],
      "metadata": {
        "id": "AIfZSxDR49ZN"
      }
    },
    {
      "cell_type": "code",
      "source": [
        "def efficiency(group):\n",
        "    return (group[\"Продажі\"].sum() / group[\"Кількість_транзакцій\"].sum())\n",
        "\n",
        "eff_by_city = df.groupby(\"Місто\").apply(efficiency)\n",
        "print(eff_by_city)"
      ],
      "metadata": {
        "id": "C_JhMkHK5JJk"
      },
      "execution_count": null,
      "outputs": []
    },
    {
      "cell_type": "markdown",
      "source": [
        "Ваші висновки тут:"
      ],
      "metadata": {
        "id": "g20ZbcrmNV7h"
      }
    },
    {
      "cell_type": "markdown",
      "source": [
        "**Завдання для самостійного виконання: **\n",
        "Створіть функцію, яка обчислює середній чек з урахуванням знижки: Скоригований_чек = Середній_чек × (1 – Знижки) Застосуйте її до кожної категорії товару."
      ],
      "metadata": {
        "id": "jhTyczgX_nRq"
      }
    },
    {
      "cell_type": "code",
      "source": [
        "#Ваш код тут:"
      ],
      "metadata": {
        "id": "s-d4dhf5_7S6"
      },
      "execution_count": 9,
      "outputs": []
    },
    {
      "cell_type": "markdown",
      "source": [
        "Ваші висновки тут:"
      ],
      "metadata": {
        "id": "RuA7HjE3ADT6"
      }
    },
    {
      "cell_type": "markdown",
      "source": [
        "**Задача 5: Зведена таблиця (pivot_table)**\n",
        "\n",
        "*Продажі по роках і категоріях товарів*\n",
        "\n",
        "pivot_table() — зручний спосіб побудови багатовимірної агрегованої таблиці\n",
        "\n",
        "margins=True — додає підсумки\n",
        "\n",
        "Виконайте приклад нижче"
      ],
      "metadata": {
        "id": "De5JrRr0AH6i"
      }
    },
    {
      "cell_type": "code",
      "source": [
        "pivot = df.pivot_table(\n",
        "    values=\"Продажі\",\n",
        "    index=\"Рік\",\n",
        "    columns=\"Категорія_товару\",\n",
        "    aggfunc=\"sum\",\n",
        "    margins=True\n",
        ")\n",
        "print(pivot)"
      ],
      "metadata": {
        "id": "pXSInzSvAeCT",
        "outputId": "6bdef936-fec1-4e88-b65e-fe12899fd66f",
        "colab": {
          "base_uri": "https://localhost:8080/"
        }
      },
      "execution_count": 10,
      "outputs": [
        {
          "output_type": "stream",
          "name": "stdout",
          "text": [
            "Категорія_товару  Електроніка    Одяг  Продукти      All\n",
            "Рік                                                     \n",
            "2023                   212000  164000    276000   652000\n",
            "2024                   317000  172000    188000   677000\n",
            "All                    529000  336000    464000  1329000\n"
          ]
        }
      ]
    },
    {
      "cell_type": "markdown",
      "source": [
        "**Завдання для самостійного виконання: **\n",
        "Побудуйте зведену таблицю середнього чека по кварталах і містах. Додайте підсумкові значення."
      ],
      "metadata": {
        "id": "4ndzuXOeAg8B"
      }
    },
    {
      "cell_type": "code",
      "source": [
        "#Ваш код тут:"
      ],
      "metadata": {
        "id": "2bRy-Cs1AriC"
      },
      "execution_count": null,
      "outputs": []
    },
    {
      "cell_type": "markdown",
      "source": [
        "Ващі висновки тут:"
      ],
      "metadata": {
        "id": "LuHi9wtpAsky"
      }
    },
    {
      "cell_type": "markdown",
      "source": [
        "**Індивідуальне завдання**\n",
        "є однакові для всіх дані у файлі Sales1.csv:\n",
        "Розв'яжіть задачу свого варіанту.\n",
        "\n",
        "1️⃣ Середній чек по містах\n",
        "🔹 Згрупуйте дані по Місто 🔹 Обчисліть середнє значення Середній_чек 🔹 Виведіть результат у вигляді таблиці\n",
        "\n",
        "2️⃣ Загальні продажі по роках\n",
        "🔹 Згрупуйте по Рік 🔹 Обчисліть суму Продажі 🔹 Визначте рік з найбільшими продажами\n",
        "\n",
        "3️⃣ Кілька агрегуючих функцій по категоріях\n",
        "🔹 Згрупуйте по Категорія_товару 🔹 Обчисліть mean, max, std для Продажі 🔹 Виведіть результат у форматі DataFrame\n",
        "\n",
        "4️⃣ Медіана кількості транзакцій по кварталах\n",
        "🔹 Згрупуйте по Квартал 🔹 Обчисліть median для Кількість_транзакцій 🔹 Визначте квартал з найвищою медіаною\n",
        "\n",
        "5️⃣ Власна функція: ефективність продажів\n",
        "🔹 Створіть функцію: Продажі / Кількість_транзакцій 🔹 Застосуйте її до кожного міста через apply() 🔹 Виведіть ефективність по містах\n",
        "\n",
        "6️⃣ Зведена таблиця: середній чек по кварталах і категоріях\n",
        "🔹 Побудуйте pivot_table 🔹 index=\"Квартал\", columns=\"Категорія_товару\", values=\"Середній_чек\" 🔹 Додайте margins=True для підсумків\n",
        "\n",
        "7️⃣ Мінімальні продажі по містах\n",
        "🔹 Згрупуйте по Місто 🔹 Обчисліть min для Продажі 🔹 Визначте місто з найменшими продажами\n",
        "\n",
        "8️⃣ Добуток транзакцій по категоріях\n",
        "🔹 Згрупуйте по Категорія_товару 🔹 Обчисліть prod для Кількість_транзакцій 🔹 Виведіть результат у вигляді серії\n",
        "\n",
        "9️⃣ Визначення міста з найбільшим середнім чеком\n",
        "🔹 Згрупуйте по Місто 🔹 Обчисліть mean для Середній_чек 🔹 Знайдіть місто з максимальним значенням\n",
        "\n",
        "🔟 Аналіз знижок по категоріях\n",
        "🔹 Згрупуйте по Категорія_товару 🔹 Обчисліть mean, max, min для Знижки"
      ],
      "metadata": {
        "id": "bkXnuC2F5wvu"
      }
    },
    {
      "cell_type": "code",
      "source": [
        "#Ваш код тут:"
      ],
      "metadata": {
        "id": "pFrjY9XUVS4P"
      },
      "execution_count": null,
      "outputs": []
    },
    {
      "cell_type": "markdown",
      "source": [
        "Ваші висновки тут:"
      ],
      "metadata": {
        "id": "DDq-CDqLVXJl"
      }
    }
  ]
}