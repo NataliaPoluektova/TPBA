{
  "nbformat": 4,
  "nbformat_minor": 0,
  "metadata": {
    "colab": {
      "provenance": [],
      "authorship_tag": "ABX9TyOzyuuDygTuLNBIEB9m8WHl",
      "include_colab_link": true
    },
    "kernelspec": {
      "name": "python3",
      "display_name": "Python 3"
    },
    "language_info": {
      "name": "python"
    }
  },
  "cells": [
    {
      "cell_type": "markdown",
      "metadata": {
        "id": "view-in-github",
        "colab_type": "text"
      },
      "source": [
        "<a href=\"https://colab.research.google.com/github/NataliaPoluektova/TPBA/blob/main/prakt8.ipynb\" target=\"_parent\"><img src=\"https://colab.research.google.com/assets/colab-badge.svg\" alt=\"Open In Colab\"/></a>"
      ]
    },
    {
      "cell_type": "markdown",
      "metadata": {
        "id": "iDMmyJgb1orq"
      },
      "source": [
        "# Практична робота №8\n",
        "**Тема:** Візуалізація даних для аналізу\n",
        "\n",
        "## Мета роботи\n",
        "1. Навчитися створювати, аналізувати та трансформувати графіки та діаграми за допомогою Matplotlib.\n",
        "\n",
        "Для використання DataFrame потрібно імпортувати бібліотеку pandas, також імпортувати бібліотеку для побудови графіків та діаграм matplotlib"
      ]
    },
    {
      "cell_type": "code",
      "source": [
        "import pandas as pd\n",
        "import matplotlib"
      ],
      "metadata": {
        "id": "rl1hrINdEJis"
      },
      "execution_count": 1,
      "outputs": []
    },
    {
      "cell_type": "markdown",
      "source": [
        "**Завдання 1. Аналіз сезонності продажів**\n",
        "\n",
        "Файл: sales_q.csv\n",
        "\n",
        "Колонки: Рік, Квартал, Продажі\n",
        "\n",
        "Ми використовуємо groupby(\"Квартал\") для обчислення середніх продажів.\n",
        "\n",
        "plot(kind=\"bar\") створює стовпчикову діаграму.\n",
        "\n",
        "idxmax() знаходить квартал з найбільшими середніми продажами.\n",
        "Виконайте код нижче:"
      ],
      "metadata": {
        "id": "0QdfncmD3KPH"
      }
    },
    {
      "cell_type": "code",
      "source": [
        "import matplotlib.pyplot as plt\n",
        "# Завантаження даних\n",
        "df = pd.read_csv(\"https://raw.githubusercontent.com/NataliaPoluektova/TPBA/refs/heads/main/sales_q.csv\")\n",
        "\n",
        "# Очищення пропусків\n",
        "df[\"Продажі\"] = df[\"Продажі\"].fillna(df[\"Продажі\"].mean())\n",
        "\n",
        "# Групування по кварталах\n",
        "quarter_avg = df.groupby(\"Квартал\")[\"Продажі\"].mean()\n",
        "\n",
        "# Побудова графіка\n",
        "quarter_avg.plot(kind=\"bar\", color=\"skyblue\", edgecolor=\"black\")\n",
        "plt.title(\"Середні продажі по кварталах\")\n",
        "plt.xlabel(\"Квартал\")\n",
        "plt.ylabel(\"Середні продажі\")\n",
        "plt.xticks(rotation=0)\n",
        "plt.grid(axis=\"y\", linestyle=\"--\", alpha=0.7)\n",
        "plt.tight_layout()\n",
        "plt.show()\n",
        "\n",
        "# Визначення найприбутковішого кварталу\n",
        "best_quarter = quarter_avg.idxmax()\n",
        "best_value = quarter_avg.max()\n",
        "print(f\"Найприбутковіший квартал: {best_quarter} з середніми продажами {best_value:.2f}\")"
      ],
      "metadata": {
        "id": "4YGjXP6F1tQe"
      },
      "execution_count": null,
      "outputs": []
    },
    {
      "cell_type": "markdown",
      "source": [
        "**Завдання для самостійного виконання:**\n",
        "\n",
        "Побудуйте графік загальних (сумарних) продажів по кварталах (не середніх).Зробіть висновки"
      ],
      "metadata": {
        "id": "u8PADa_B3eud"
      }
    },
    {
      "cell_type": "code",
      "source": [
        "# Ваш код тут"
      ],
      "metadata": {
        "id": "Z1ZX5GH03rko"
      },
      "execution_count": null,
      "outputs": []
    },
    {
      "cell_type": "markdown",
      "source": [
        "Ваши висновки тут:"
      ],
      "metadata": {
        "id": "-2S2jhIpCP5J"
      }
    },
    {
      "cell_type": "markdown",
      "source": [
        "**Задача 2: Сегментація клієнтів за віком**\n",
        "\n",
        "Файл: clients.csv\n",
        "\n",
        "Колонки: Клієнт, Вік, Місто, Рік, Квартал\n",
        "\n",
        "pd.cut() розбиває значення віку на категорії.\n",
        "\n",
        "value_counts() рахує кількість клієнтів у кожній групі.\n",
        "\n",
        "plot(kind=\"bar\") створює стовпчикову діаграму.\n",
        "\n",
        "Виконайте приклад нижче:"
      ],
      "metadata": {
        "id": "Cn6x7RIo3wnR"
      }
    },
    {
      "cell_type": "code",
      "source": [
        "# Завантаження даних\n",
        "df = pd.read_csv(\"https://raw.githubusercontent.com/NataliaPoluektova/TPBA/refs/heads/main/clients.csv\")\n",
        "\n",
        "# Очищення пропусків у віці\n",
        "df[\"Вік\"] = df[\"Вік\"].fillna(df[\"Вік\"].mean())\n",
        "\n",
        "# Дискретизація віку\n",
        "bins = [0, 30, 45, 100]\n",
        "labels = [\"<30\", \"30–45\", \"45+\"]\n",
        "df[\"Вікова група\"] = pd.cut(df[\"Вік\"], bins=bins, labels=labels)\n",
        "print(df.head)\n",
        "# Підрахунок кількості клієнтів у кожній групі\n",
        "group_counts = df[\"Вікова група\"].value_counts().sort_index()\n",
        "\n",
        "# Побудова кругової діаграми\n",
        "colors = [\"#8fd9a8\", \"#f4c95d\", \"#ff6f69\"]\n",
        "group_counts.plot(\n",
        "    kind=\"pie\",\n",
        "    autopct=\"%1.1f%%\",\n",
        "    startangle=90,\n",
        "    colors=colors,\n",
        "    wedgeprops={\"edgecolor\": \"black\"},\n",
        "    figsize=(6, 6)\n",
        ")\n",
        "\n",
        "plt.title(\"Розподіл клієнтів за віком\")\n",
        "plt.ylabel(\"\")  # Приховати вісь Y\n",
        "plt.tight_layout()\n",
        "plt.show()\n",
        "plt.show()"
      ],
      "metadata": {
        "id": "5VXtaFiI3-MH",
        "collapsed": true
      },
      "execution_count": null,
      "outputs": []
    },
    {
      "cell_type": "markdown",
      "source": [
        "**Завдання для самостійного виконання:** Побудуйте кругову діаграму розподілу клієнтів по містах.Визначте, яке місто має найбільшу частку клієнтів."
      ],
      "metadata": {
        "id": "jfx47kuh4EK2"
      }
    },
    {
      "cell_type": "code",
      "source": [
        "#Ваш код тут:"
      ],
      "metadata": {
        "id": "vKeFzWxr4LHk"
      },
      "execution_count": null,
      "outputs": []
    },
    {
      "cell_type": "markdown",
      "source": [
        "Ваши висновки тут:"
      ],
      "metadata": {
        "id": "YJnlLJcvDQ6s"
      }
    },
    {
      "cell_type": "markdown",
      "source": [
        "**Задача 3: Лінійний графік зміни кількості клієнтів**\n",
        "\n",
        "Файл: clients.csv\n",
        "Колонки: Клієнт, Місто, Рік\n",
        "\n",
        "groupby(\"Рік\")[\"Клієнт\"].count() — кількість клієнтів щороку.\n",
        "\n",
        "plot(kind=\"line\") — лінійний графік з маркерами.\n",
        "\n",
        "Виконайте приклад нижче:"
      ],
      "metadata": {
        "id": "-K7eI7fK4OYX"
      }
    },
    {
      "cell_type": "code",
      "source": [
        "import pandas as pd\n",
        "import matplotlib.pyplot as plt\n",
        "\n",
        "# Завантаження даних\n",
        "df = pd.read_csv(\"https://raw.githubusercontent.com/NataliaPoluektova/TPBA/refs/heads/main/clients.csv\")\n",
        "print(df)\n",
        "# Групування по роках\n",
        "yearly_counts = df.groupby(\"Рік\")[\"Клієнт\"].count()\n",
        "\n",
        "# Побудова графіка\n",
        "yearly_counts.plot(kind=\"line\", marker=\"o\", color=\"green\")\n",
        "plt.title(\"Зміна кількості клієнтів по роках\")\n",
        "plt.xlabel(\"Рік\")\n",
        "plt.ylabel(\"Кількість клієнтів\")\n",
        "plt.grid(True)\n",
        "plt.tight_layout()\n",
        "plt.show()"
      ],
      "metadata": {
        "id": "YCjvL9DV4lgp"
      },
      "execution_count": null,
      "outputs": []
    },
    {
      "cell_type": "markdown",
      "source": [
        "**Завдання для самостійного виконання:** Побудуйте графік зміни кількості клієнтів для одного обраного міста.Визначте, чи є зростання або спад."
      ],
      "metadata": {
        "id": "EHctIPlh4ppY"
      }
    },
    {
      "cell_type": "code",
      "source": [
        "#Ваш код тут:"
      ],
      "metadata": {
        "id": "9qMUBenO46Co"
      },
      "execution_count": null,
      "outputs": []
    },
    {
      "cell_type": "markdown",
      "source": [
        "Ваши висновки тут:"
      ],
      "metadata": {
        "id": "yeELx-e8F2ht"
      }
    },
    {
      "cell_type": "markdown",
      "source": [
        "**Задача 4: Порівняння середнього чека по категоріях товарів**\n",
        "Є ще один файл, який містить дані про товари (sales1.csv). В ньому такі стовбчики:\n",
        "\n",
        "Рік\n",
        "\n",
        "Квартал\n",
        "\n",
        "Місто\n",
        "\n",
        "Категорія_товару\n",
        "\n",
        "Продажі\n",
        "\n",
        "Кількість_транзакцій\n",
        "\n",
        "Середній_чек\n",
        "\n",
        "Знижки\n",
        "Створи діаграму, яка показує середній чек по категоріях товарів\n"
      ],
      "metadata": {
        "id": "AIfZSxDR49ZN"
      }
    },
    {
      "cell_type": "code",
      "source": [
        "df = pd.read_csv(\"https://raw.githubusercontent.com/NataliaPoluektova/TPBA/refs/heads/main/Sales1.csv\",sep=\";\")\n",
        "print(df)\n",
        "# Групування\n",
        "avg_check = df.groupby(\"Категорія_товару\")[\"Середній_чек\"].mean().sort_values()\n",
        "\n",
        "# Побудова горизонтальної діаграми\n",
        "avg_check.plot(kind=\"barh\", color=\"cornflowerblue\", edgecolor=\"black\")\n",
        "plt.title(\"Середній чек по категоріях товарів\")\n",
        "plt.xlabel(\"Середній чек (грн)\")\n",
        "plt.ylabel(\"Категорія_товару\")\n",
        "plt.grid(axis=\"x\", linestyle=\"--\", alpha=0.6)\n",
        "plt.tight_layout()\n",
        "plt.show()"
      ],
      "metadata": {
        "id": "C_JhMkHK5JJk"
      },
      "execution_count": null,
      "outputs": []
    },
    {
      "cell_type": "markdown",
      "source": [
        "Ваші висновки тут:"
      ],
      "metadata": {
        "id": "g20ZbcrmNV7h"
      }
    },
    {
      "cell_type": "markdown",
      "source": [
        "**Індивідуальне завдання**\n",
        "є однакові для всіх дані у файлі Sales1.csv:\n",
        "\n",
        "\n",
        "Розв'яжіть задачу свого варіанту.\n",
        "\n",
        "1️⃣ Сезонність продажів\n",
        "📌 Побудуйте графік загальних продажів по кварталах. 🔍 Визначте, який квартал є найактивнішим за обсягом продажів.\n",
        "\n",
        "2️⃣ Продажі по містах\n",
        "📌 Побудуйте стовпчикову діаграму загальних продажів по містах. 🔍 Визначте місто з найвищими продажами.\n",
        "\n",
        "3️⃣ Середній чек по категоріях\n",
        "📌 Побудуйте горизонтальну діаграму середнього чека по категоріях товарів. 🔍 Визначте, яка категорія має найвищий середній чек.\n",
        "\n",
        "4️⃣ Вплив знижок на середній чек\n",
        "📌 Побудуйте точковий графік: Знижки vs Середній_чек. 🔍 Зробіть висновок: чи більші знижки ведуть до вищого або нижчого чека?\n",
        "\n",
        "5️⃣ Кількість транзакцій по роках\n",
        "📌 Побудуйте графік зміни кількості транзакцій по роках. 🔍 Визначте, чи зростає активність клієнтів з часом.\n",
        "\n",
        "6️⃣ Продажі по категоріях у різних містах\n",
        "📌 Побудуйте груповану стовпчикову діаграму: Категорія_товару vs Продажі, розділену по містах. 🔍 Визначте, яка категорія домінує в кожному місті.\n",
        "\n",
        "7️⃣ Частка категорій у загальних продажах\n",
        "📌 Побудуйте кругову діаграму частки кожної категорії товарів у загальних продажах. 🔍 Яка категорія займає найбільшу частку?\n",
        "\n",
        "8️⃣ Динаміка продажів по роках\n",
        "📌 Побудуйте лінійний графік загальних продажів по роках. 🔍 Визначте, чи є зростання або спад.\n",
        "\n",
        "9️⃣ Визначення ефективності знижок\n",
        "📌 Створіть нову колонку \"Ефективність_знижки\" = Продажі / Знижки. 🔍 Побудуйте графік цієї ознаки і визначте, де знижки дали найбільший ефект.\n",
        "\n",
        "🔟 Аналіз середнього чека по містах 📌Побудуйте діаграму розподілу середнього чека по містах. 🔍 Визначте, де клієнти витрачають найбільше."
      ],
      "metadata": {
        "id": "bkXnuC2F5wvu"
      }
    },
    {
      "cell_type": "code",
      "source": [
        "#Ваш код тут:"
      ],
      "metadata": {
        "id": "pFrjY9XUVS4P"
      },
      "execution_count": null,
      "outputs": []
    },
    {
      "cell_type": "markdown",
      "source": [
        "Ваші висновки тут:"
      ],
      "metadata": {
        "id": "DDq-CDqLVXJl"
      }
    }
  ]
}