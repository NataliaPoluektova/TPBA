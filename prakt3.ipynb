{
  "nbformat": 4,
  "nbformat_minor": 0,
  "metadata": {
    "colab": {
      "provenance": [],
      "authorship_tag": "ABX9TyNYD3/967dr0rrnLrmPSUmx",
      "include_colab_link": true
    },
    "kernelspec": {
      "name": "python3",
      "display_name": "Python 3"
    },
    "language_info": {
      "name": "python"
    }
  },
  "cells": [
    {
      "cell_type": "markdown",
      "metadata": {
        "id": "view-in-github",
        "colab_type": "text"
      },
      "source": [
        "<a href=\"https://colab.research.google.com/github/NataliaPoluektova/TPBA/blob/main/prakt3.ipynb\" target=\"_parent\"><img src=\"https://colab.research.google.com/assets/colab-badge.svg\" alt=\"Open In Colab\"/></a>"
      ]
    },
    {
      "cell_type": "markdown",
      "metadata": {
        "id": "iDMmyJgb1orq"
      },
      "source": [
        "# Практична робота №3\n",
        "**Тема:** Методи та можливості бібліотеки NumPy\n",
        "\n",
        "## Мета роботи\n",
        "1. Навчитися використовувати методи NumPy для трансформації, фільтрації, аналізу та обробки економічних даних\n",
        "\n",
        "Для роботи з numpy Ви повинні її імпортувати:"
      ]
    },
    {
      "cell_type": "code",
      "source": [
        "import numpy as np"
      ],
      "metadata": {
        "id": "ZFugx23lFbKY"
      },
      "execution_count": null,
      "outputs": []
    },
    {
      "cell_type": "markdown",
      "source": [
        "**Завдання 1: Зміна форми масиву — reshape()**\n",
        "\n",
        "Компанія веде облік витрат по 3 регіонах за 4 квартали. Дані зберігаються у вигляді масиву 3×4. Змініть форму масиву на 2×6.\n",
        "\n",
        "Виконайте та проаналізуйте приклад нижче:"
      ],
      "metadata": {
        "id": "0QdfncmD3KPH"
      }
    },
    {
      "cell_type": "code",
      "source": [
        "import numpy as np\n",
        "\n",
        "expenses = np.array([\n",
        "    [12000, 13500, 12800, 14000],\n",
        "    [15000, 16000, 15500, 16200],\n",
        "    [11000, 11500, 11300, 11800]\n",
        "])\n",
        "\n",
        "reshaped = expenses.reshape(2, 6)\n",
        "print(\"Масив після зміни форми:\")\n",
        "print(reshaped)"
      ],
      "metadata": {
        "id": "4YGjXP6F1tQe"
      },
      "execution_count": null,
      "outputs": []
    },
    {
      "cell_type": "markdown",
      "source": [
        "**Завдання для самостійного виконання:**\n",
        "Створіть масив доходів по 2 регіонах за 6 місяців. Змініть його форму на 3×4"
      ],
      "metadata": {
        "id": "u8PADa_B3eud"
      }
    },
    {
      "cell_type": "code",
      "source": [
        "# Ваш код тут"
      ],
      "metadata": {
        "id": "Z1ZX5GH03rko"
      },
      "execution_count": null,
      "outputs": []
    },
    {
      "cell_type": "markdown",
      "source": [
        "**Завдання 2: Об’єднання масивів — concatenate()**\n",
        "Є три джерела доходу: онлайн-продажі, офлайн-продажі та партнерські програми. Об’єднайте їх по горизонталі та вертикалі.\n",
        "\n",
        "Виконайте приклад нижче:"
      ],
      "metadata": {
        "id": "Cn6x7RIo3wnR"
      }
    },
    {
      "cell_type": "code",
      "source": [
        "online = np.array([[5000, 7000], [6500, 7200]])\n",
        "offline = np.array([[4000, 6000], [5800, 6100]])\n",
        "partners = np.array([[3000, 3500], [3200, 3300]])\n",
        "\n",
        "horizontal = np.concatenate((online, offline, partners), axis=1)\n",
        "vertical = np.concatenate((online, offline, partners), axis=0)\n",
        "\n",
        "print(\"Горизонтальне об'єднання:\")\n",
        "print(horizontal)\n",
        "print(\"Вертикальне об'єднання:\")\n",
        "print(vertical)"
      ],
      "metadata": {
        "id": "5VXtaFiI3-MH"
      },
      "execution_count": null,
      "outputs": []
    },
    {
      "cell_type": "markdown",
      "source": [
        "**Завдання для самостійного виконання:** Створіть три масиви витрат на логістику, персонал і маркетинг. Об’єднайте їх по горизонталі та вертикалі."
      ],
      "metadata": {
        "id": "jfx47kuh4EK2"
      }
    },
    {
      "cell_type": "code",
      "source": [
        "incomes = [3000, 7000, 16000, 12000, 4500, 18000]\n",
        "# Ваш код тут"
      ],
      "metadata": {
        "id": "vKeFzWxr4LHk"
      },
      "execution_count": null,
      "outputs": []
    },
    {
      "cell_type": "markdown",
      "source": [
        "**Завдання 3: Перетворення в одномірний масив — flatten()**\n",
        "Матриця витрат по відділах і місяцях має розмір 4×4. Перетворіть її в одномірний масив.\n",
        "\n",
        "Виконайте приклад нижче:"
      ],
      "metadata": {
        "id": "-K7eI7fK4OYX"
      }
    },
    {
      "cell_type": "code",
      "source": [
        "matrix = np.array([\n",
        "    [1200, 1300, 1250, 1400],\n",
        "    [1500, 1600, 1550, 1620],\n",
        "    [1100, 1150, 1130, 1180],\n",
        "    [1000, 1050, 1020, 1080]\n",
        "])\n",
        "\n",
        "flat = matrix.flatten()\n",
        "print(\"Одномірний масив витрат:\")\n",
        "print(flat)"
      ],
      "metadata": {
        "id": "YCjvL9DV4lgp"
      },
      "execution_count": null,
      "outputs": []
    },
    {
      "cell_type": "markdown",
      "source": [
        "**Завдання для самостійного виконання:** Створіть матрицю доходів по 3 регіонах за 5 місяців. Перетворіть її в одномірний масив."
      ],
      "metadata": {
        "id": "EHctIPlh4ppY"
      }
    },
    {
      "cell_type": "code",
      "source": [
        "# Ваш код тут"
      ],
      "metadata": {
        "id": "9qMUBenO46Co"
      },
      "execution_count": null,
      "outputs": []
    },
    {
      "cell_type": "markdown",
      "source": [
        "**Завдання 4: Пошук максимуму/мінімуму — argmax(), argmin()**\n",
        "Є масив щомісячних доходів. Знайдіть індекси місяців з найвищим і найнижчим доходом."
      ],
      "metadata": {
        "id": "AIfZSxDR49ZN"
      }
    },
    {
      "cell_type": "code",
      "source": [
        "income = np.array([12000, 13500, 12800, 14000, 15000, 16000, 15500, 16200])\n",
        "\n",
        "print(\"Індекс максимуму:\", np.argmax(income))\n",
        "print(\"Індекс мінімуму:\", np.argmin(income))"
      ],
      "metadata": {
        "id": "C_JhMkHK5JJk"
      },
      "execution_count": null,
      "outputs": []
    },
    {
      "cell_type": "markdown",
      "source": [
        "**Завдання для самостійного виконання:** Створіть масив витрат на рекламу за 10 місяців. Знайдіть індекси найбільшої та найменшої витрати."
      ],
      "metadata": {
        "id": "i9BJ9vzD5Me8"
      }
    },
    {
      "cell_type": "code",
      "source": [
        "# Ваш код тут"
      ],
      "metadata": {
        "id": "ugBkkRfy5VLx"
      },
      "execution_count": null,
      "outputs": []
    },
    {
      "cell_type": "markdown",
      "source": [
        "**Завдання 5: Умовна заміна — where()**\n",
        "У масиві витрат потрібно замінити всі значення, що перевищують 15000 грн, на 9999 грн.\n",
        " Виконайте код, проаналізуйте та напишіть в коментарі чим цей спосіб відрізняється від обробки двовимірних масивів без numpy"
      ],
      "metadata": {
        "id": "feXeQvwd5YRh"
      }
    },
    {
      "cell_type": "code",
      "source": [
        "expenses = np.array([12000, 13500, 12800, 14000, 15000, 16000, 15500, 16200])\n",
        "adjusted = np.where(expenses > 15000, 9999, expenses)\n",
        "print(\"Скориговані витрати:\")\n",
        "print(adjusted)"
      ],
      "metadata": {
        "id": "dugcutAE5hrA"
      },
      "execution_count": null,
      "outputs": []
    },
    {
      "cell_type": "markdown",
      "source": [
        "**Завдання для самостійного виконання:**\n",
        "\n",
        "Створіть масив доходів. Замініть всі значення менші за 10000 грн на 0."
      ],
      "metadata": {
        "id": "dnk-GNHL5mrg"
      }
    },
    {
      "cell_type": "code",
      "source": [
        "# Ваш код тут"
      ],
      "metadata": {
        "id": "w5vpkQbY5ssQ"
      },
      "execution_count": null,
      "outputs": []
    },
    {
      "cell_type": "markdown",
      "source": [
        "**Завдання 6: Індекси ненульових елементів — nonzero()**\n",
        "\n",
        "У матриці витрат деякі значення дорівнюють нулю. Знайдіть позиції всіх ненульових елементів.\n",
        "\n",
        " Виконайте та проаналізуйте код з прикладу нижче:"
      ],
      "metadata": {
        "id": "qY3NMLxQMdrQ"
      }
    },
    {
      "cell_type": "code",
      "source": [
        "data = np.array([\n",
        "    [0, 1200, 0, 1400],\n",
        "    [1500, 0, 1550, 0],\n",
        "    [1100, 1150, 0, 1180],\n",
        "    [0, 1050, 1020, 0]\n",
        "])\n",
        "\n",
        "indices = np.nonzero(data)\n",
        "print(\"Індекси ненульових витрат:\")\n",
        "print(indices)"
      ],
      "metadata": {
        "id": "xxSJ_4k3Mw3W"
      },
      "execution_count": null,
      "outputs": []
    },
    {
      "cell_type": "markdown",
      "source": [
        "**Самостійне завдання**\n",
        "\n",
        "Створіть матрицю доходів з пропущеними значеннями (0). Виведіть індекси всіх ненульових доходів."
      ],
      "metadata": {
        "id": "UN2VwuIRMzIW"
      }
    },
    {
      "cell_type": "code",
      "source": [
        "#Ваш код тут:"
      ],
      "metadata": {
        "id": "O1uald9zM9wN"
      },
      "execution_count": null,
      "outputs": []
    },
    {
      "cell_type": "markdown",
      "source": [
        "**Завдання 7: Унікальні значення — unique()**\n",
        "\n",
        "Компанія зібрала дані про витрати 500 клієнтів на послуги протягом місяця. Кожен клієнт витратив певну суму (від 1000 до 5000 грн). Необхідно визначити, які суми витрат зустрічаються, і скільки клієнтів витратили кожну з них.\n",
        "\n",
        "Очікуваний результат: Список унікальних сум витрат та кількість клієнтів, які витратили саме ці суми. Виводяться перші 10 значень без сортування за популярністю.\n",
        "\n",
        "Проаналізуйте, який результат Ви отримали"
      ],
      "metadata": {
        "id": "kFJBUBpAND7V"
      }
    },
    {
      "cell_type": "code",
      "source": [
        "import numpy as np\n",
        "\n",
        "# Генеруємо масив витрат 500 клієнтів\n",
        "client_expenses = np.random.randint(1000, 5001, size=500)\n",
        "\n",
        "# Знаходимо унікальні суми витрат та кількість їх повторень\n",
        "unique_expenses, expense_counts = np.unique(client_expenses, return_counts=True)\n",
        "\n",
        "print(\"Унікальні суми витрат:\", unique_expenses)\n",
        "print(\"Кількість клієнтів з кожною сумою:\", expense_counts)\n",
        "\n",
        "# Виводимо перші 10 унікальних значень для огляду\n",
        "for i in range(10):\n",
        "    print(f\"{unique_expenses[i]} грн — {expense_counts[i]} клієнтів\")"
      ],
      "metadata": {
        "id": "1BgrBBlJN6ms"
      },
      "execution_count": null,
      "outputs": []
    },
    {
      "cell_type": "markdown",
      "source": [
        "**Самостійне завдання**\n",
        "\n",
        "Агентство зібрало дані про доходи 300 клієнтів від інвестицій у фінансові продукти. Кожен клієнт отримав певний дохід (від 500 до 10000 грн). Визначте, які суми доходів зустрічаються, і скільки клієнтів отримали кожну з них. Виведіть перші 10 унікальних доходів та їх кількість."
      ],
      "metadata": {
        "id": "0Vblx6i4OJzc"
      }
    },
    {
      "cell_type": "code",
      "source": [
        "#Ваш код тут"
      ],
      "metadata": {
        "id": "2XSpZgnIOVYM"
      },
      "execution_count": null,
      "outputs": []
    },
    {
      "cell_type": "markdown",
      "source": [
        "**Завдання 8: Сортування — sort()**\n",
        "\n",
        "Є масив витрат на маркетинг. Виведіть витрати за зростанням і спаданням."
      ],
      "metadata": {
        "id": "THzCwackOYpE"
      }
    },
    {
      "cell_type": "code",
      "source": [
        "marketing = np.array([3000, 1200, 4500, 2000, 3800, 1500])\n",
        "asc = np.sort(marketing)\n",
        "desc = np.sort(marketing)[::-1]\n",
        "\n",
        "print(\"За зростанням:\", asc)\n",
        "print(\"За спаданням:\", desc)"
      ],
      "metadata": {
        "id": "cFF-IhOBOlqz"
      },
      "execution_count": null,
      "outputs": []
    },
    {
      "cell_type": "markdown",
      "source": [
        "**Самостійне завдання**\n",
        "\n",
        "Створіть масив витрат на логістику. Виведіть його у відсортованому вигляді за зростанням і спаданням."
      ],
      "metadata": {
        "id": "ZzddsIZzOpvs"
      }
    },
    {
      "cell_type": "code",
      "source": [
        "#Ваш код тут"
      ],
      "metadata": {
        "id": "7W8FH4ufOwYr"
      },
      "execution_count": null,
      "outputs": []
    },
    {
      "cell_type": "markdown",
      "source": [
        "**Завдання 8. Розрахунок затримки платежів - roll()**\n",
        "\n",
        "Зсув витрат на 1 місяць вперед для моделювання затримки платежів."
      ],
      "metadata": {
        "id": "UqEwCgwYO1xL"
      }
    },
    {
      "cell_type": "code",
      "source": [
        "monthly_expenses = np.array([12000, 13500, 12800, 14000, 15000, 16000])\n",
        "shifted_expenses = np.roll(monthly_expenses, 1)\n",
        "\n",
        "print(\"Витрати після зсуву:\", shifted_expenses)"
      ],
      "metadata": {
        "id": "zESQ2YUQQ9n4"
      },
      "execution_count": null,
      "outputs": []
    },
    {
      "cell_type": "markdown",
      "source": [
        "**Самостійне завдання**\n",
        "\n",
        "Створіть масив доходів за 8 місяців. Зсунути значення на 3 позиції назад."
      ],
      "metadata": {
        "id": "e9zlFtTfRLqA"
      }
    },
    {
      "cell_type": "code",
      "source": [
        "#Ваш код тут"
      ],
      "metadata": {
        "id": "BdDq6vi0RWPQ"
      },
      "execution_count": null,
      "outputs": []
    },
    {
      "cell_type": "markdown",
      "source": [
        "**Індивідуальне завдання**\n",
        "Розв'яжіть задачу свого варіанту.\n",
        "\n",
        "№\tЗавдання\n",
        "1\tСтворіть матрицю витрат по 3 регіонах за 4 квартали. Змініть її форму на 2×6 (reshape). Виведіть одномірний масив (flatten) для подальшого аналізу.\n",
        "\n",
        "2\tСтворіть три масиви витрат на логістику, персонал і маркетинг. Об’єднайте їх по горизонталі та вертикалі (concatenate). Виведіть унікальні значення (unique) та їх кількість.\n",
        "\n",
        "3\tСтворіть масив доходів за 12 місяців. Знайдіть місяць з найвищим доходом (argmax) і найнижчим (argmin). Відсортуйте масив за спаданням (sort()[::-1]).\n",
        "\n",
        "4\tСтворіть масив витрат на рекламу. Замініть всі значення, що перевищують 10000 грн, на 9999 (where). Виведіть індекси всіх ненульових витрат (nonzero).\n",
        "\n",
        "5\tСтворіть масив витрат на навчання персоналу. Зсунути значення на 2 місяці вперед (roll) — для моделювання затримки платежів.\n",
        "\n",
        "6\tСтворіть матрицю доходів по 4 регіонах за 3 місяці. Змініть її форму на 1D масив (flatten). Виведіть унікальні доходи (unique) та кількість кожного.\n",
        "\n",
        "7\tСтворіть масив витрат на обслуговування обладнання. Замініть всі значення менші за середню витрату на 0 (where). Виведіть індекси ненульових значень (nonzero).\n",
        "\n",
        "8\tСтворіть масив доходів від оренди за 6 місяців. Зсунути значення на 1 місяць назад (roll). Знайдіть найвищий дохід (argmax) та відсортуйте масив (sort).\n",
        "\n",
        "9\tСтворіть три масиви витрат по різних каналах: реклама, логістика, персонал. Об’єднайте їх (concatenate) та перетворіть у 1D масив (flatten). Виведіть топ-5 унікальних витрат.\n",
        "\n",
        "10\tСтворіть масив доходів 300 клієнтів. Виведіть унікальні значення (unique) та кількість кожного. Замініть всі доходи менші за 5000 грн на 0 (where).\n"
      ],
      "metadata": {
        "id": "bkXnuC2F5wvu"
      }
    },
    {
      "cell_type": "markdown",
      "source": [],
      "metadata": {
        "id": "PWMpNRjE3Im5"
      }
    }
  ]
}