{
  "nbformat": 4,
  "nbformat_minor": 0,
  "metadata": {
    "colab": {
      "provenance": [],
      "authorship_tag": "ABX9TyM0dkx/BS1V5HWnw1luN8n8",
      "include_colab_link": true
    },
    "kernelspec": {
      "name": "python3",
      "display_name": "Python 3"
    },
    "language_info": {
      "name": "python"
    }
  },
  "cells": [
    {
      "cell_type": "markdown",
      "metadata": {
        "id": "view-in-github",
        "colab_type": "text"
      },
      "source": [
        "<a href=\"https://colab.research.google.com/github/NataliaPoluektova/TPBA/blob/main/prakt10.ipynb\" target=\"_parent\"><img src=\"https://colab.research.google.com/assets/colab-badge.svg\" alt=\"Open In Colab\"/></a>"
      ]
    },
    {
      "cell_type": "markdown",
      "metadata": {
        "id": "iDMmyJgb1orq"
      },
      "source": [
        "# Практична робота №10\n",
        "**Тема:** Аналіз числових часових рядів\n",
        "\n",
        "## Мета роботи\n",
        "Навчитися працювати з числовими часовими рядами у Pandas\n",
        "\n",
        "Застосовувати агрегування, передискретизацію, фільтрацію\n",
        "\n",
        "Виявляти сезонні та трендові компоненти\n",
        "\n",
        "Підготовка даних:\n",
        "\n",
        "За замовчуванням Pandas вважає, що всі дані — текст або числа, а колонка Дата ще не є датою.\n",
        "\n",
        "df[\"Дата\"] = pd.to_datetime(df[\"Дата\"]) - Перетворює колонку Дата у формат datetime64, тобто справжній тип дати.\n",
        "\n",
        "Це дозволяє:\n",
        "\n",
        "виконувати фільтрацію по датах (df[\"Дата\"] > \"2023-06-01\")\n",
        "\n",
        "використовувати .dt.year, .dt.month, .dt.to_period(\"M\")\n",
        "\n",
        "робити передискретизацію (resample(\"M\"), resample(\"Q\"))\n"
      ]
    },
    {
      "cell_type": "code",
      "source": [
        "import pandas as pd\n",
        "\n",
        "# Завантаження даних\n",
        "df = pd.read_csv(\"https://raw.githubusercontent.com/NataliaPoluektova/TPBA/refs/heads/main/monthly_sales.csv\")\n",
        "df[\"Дата\"] = pd.to_datetime(df[\"Дата\"])\n",
        "df.set_index(\"Дата\", inplace=True)"
      ],
      "metadata": {
        "id": "rl1hrINdEJis"
      },
      "execution_count": 32,
      "outputs": []
    },
    {
      "cell_type": "markdown",
      "source": [
        "**Завдання 1.** Передискретизація до кварталів\n",
        "\n",
        "\"Q\" — квартальна частота\n",
        "\n",
        "Дозволяє побачити сезонні коливання\n",
        "\n",
        "Виконайте код нижче:"
      ],
      "metadata": {
        "id": "0QdfncmD3KPH"
      }
    },
    {
      "cell_type": "code",
      "source": [
        "quarterly_sales = df.resample(\"Q\")[\"Продажі\"].sum()\n",
        "print(quarterly_sales)"
      ],
      "metadata": {
        "id": "4YGjXP6F1tQe",
        "outputId": "a3a1828d-cb5c-409f-d037-21d4a3fcea4a",
        "colab": {
          "base_uri": "https://localhost:8080/"
        }
      },
      "execution_count": 33,
      "outputs": [
        {
          "output_type": "stream",
          "name": "stdout",
          "text": [
            "Дата\n",
            "2023-03-31    2550976\n",
            "2023-06-30    2570255\n",
            "2023-09-30    2617150\n",
            "2023-12-31    2550197\n",
            "2024-03-31    2587021\n",
            "2024-06-30    2601377\n",
            "2024-09-30    2507651\n",
            "2024-12-31    2583022\n",
            "Freq: QE-DEC, Name: Продажі, dtype: int64\n"
          ]
        },
        {
          "output_type": "stream",
          "name": "stderr",
          "text": [
            "/tmp/ipython-input-2362929411.py:1: FutureWarning: 'Q' is deprecated and will be removed in a future version, please use 'QE' instead.\n",
            "  quarterly_sales = df.resample(\"Q\")[\"Продажі\"].sum()\n"
          ]
        }
      ]
    },
    {
      "cell_type": "markdown",
      "source": [
        "**Завдання для самостійного виконання:**\n",
        "\n",
        "Самостійне завдання:\n",
        "Знайдіть середні продажі по кварталах. Який квартал був найуспішнішим?"
      ],
      "metadata": {
        "id": "u8PADa_B3eud"
      }
    },
    {
      "cell_type": "code",
      "source": [
        "# Ваш код тут"
      ],
      "metadata": {
        "id": "Z1ZX5GH03rko"
      },
      "execution_count": null,
      "outputs": []
    },
    {
      "cell_type": "markdown",
      "source": [
        "Ваши висновки тут:"
      ],
      "metadata": {
        "id": "-2S2jhIpCP5J"
      }
    },
    {
      "cell_type": "markdown",
      "source": [
        "**Задача 2: Фільтрація по місту**\n",
        "\n",
        "Аналіз окремого часового ряду.\n",
        "\n",
        "Це агрегує дані продажів у Києві по місяцях, тобто створює часовий ряд, де кожна точка — це сума продажів за місяць.\n",
        "\n",
        "Виконайте приклад нижче:"
      ],
      "metadata": {
        "id": "Cn6x7RIo3wnR"
      }
    },
    {
      "cell_type": "code",
      "source": [
        "kyiv = df[df[\"Місто\"] == \"Київ\"]\n",
        "kyiv_monthly = kyiv.resample(\"M\")[\"Продажі\"].sum()\n",
        "print(kyiv_monthly)"
      ],
      "metadata": {
        "id": "5VXtaFiI3-MH",
        "collapsed": true,
        "outputId": "4344bb86-c3b5-4c00-908c-6667621a081d",
        "colab": {
          "base_uri": "https://localhost:8080/"
        }
      },
      "execution_count": 34,
      "outputs": [
        {
          "output_type": "stream",
          "name": "stdout",
          "text": [
            "Дата\n",
            "2023-01-31    297336\n",
            "2023-02-28    280183\n",
            "2023-03-31    294285\n",
            "2023-04-30    287039\n",
            "2023-05-31    292770\n",
            "2023-06-30    285243\n",
            "2023-07-31    298383\n",
            "2023-08-31    301163\n",
            "2023-09-30    267476\n",
            "2023-10-31    286640\n",
            "2023-11-30    276592\n",
            "2023-12-31    280767\n",
            "2024-01-31    274876\n",
            "2024-02-29    270048\n",
            "2024-03-31    316800\n",
            "2024-04-30    283124\n",
            "2024-05-31    289850\n",
            "2024-06-30    296719\n",
            "2024-07-31    278834\n",
            "2024-08-31    279653\n",
            "2024-09-30    275181\n",
            "2024-10-31    311444\n",
            "2024-11-30    309583\n",
            "2024-12-31    262800\n",
            "Freq: ME, Name: Продажі, dtype: int64\n"
          ]
        },
        {
          "output_type": "stream",
          "name": "stderr",
          "text": [
            "/tmp/ipython-input-2899917922.py:2: FutureWarning: 'M' is deprecated and will be removed in a future version, please use 'ME' instead.\n",
            "  kyiv_monthly = kyiv.resample(\"M\")[\"Продажі\"].sum()\n"
          ]
        }
      ]
    },
    {
      "cell_type": "markdown",
      "source": [
        "**Завдання для самостійного виконання:** Знайдіть загальні продажі у Львові по місяцях. Побудуйте лінійну діаграму. Який місяць був найуспішнішим?"
      ],
      "metadata": {
        "id": "jfx47kuh4EK2"
      }
    },
    {
      "cell_type": "code",
      "source": [
        "#Ваш код тут:"
      ],
      "metadata": {
        "id": "vKeFzWxr4LHk"
      },
      "execution_count": null,
      "outputs": []
    },
    {
      "cell_type": "markdown",
      "source": [
        "Ваши висновки тут:"
      ],
      "metadata": {
        "id": "YJnlLJcvDQ6s"
      }
    },
    {
      "cell_type": "markdown",
      "source": [
        "**Задача 3: Середні продажі по категоріях**\n",
        "\n",
        "Виконайте приклад нижче:"
      ],
      "metadata": {
        "id": "-K7eI7fK4OYX"
      }
    },
    {
      "cell_type": "code",
      "source": [
        "category_avg = df.groupby(\"Категорія_товару\")[\"Продажі\"].mean()\n",
        "print(category_avg)"
      ],
      "metadata": {
        "id": "YCjvL9DV4lgp",
        "outputId": "280c80c2-20ba-421b-d911-6d58610a4f5e",
        "colab": {
          "base_uri": "https://localhost:8080/"
        }
      },
      "execution_count": 35,
      "outputs": [
        {
          "output_type": "stream",
          "name": "stdout",
          "text": [
            "Категорія_товару\n",
            "Електроніка    126737.388889\n",
            "Одяг            59110.055556\n",
            "Продукти        99814.347222\n",
            "Name: Продажі, dtype: float64\n"
          ]
        }
      ]
    },
    {
      "cell_type": "markdown",
      "source": [
        "**Завдання для самостійного виконання:** Знайдіть максимальні продажі по кожній категорії. Яка категорія має найвищий пік?"
      ],
      "metadata": {
        "id": "EHctIPlh4ppY"
      }
    },
    {
      "cell_type": "code",
      "source": [
        "#Ваш код тут:"
      ],
      "metadata": {
        "id": "9qMUBenO46Co"
      },
      "execution_count": null,
      "outputs": []
    },
    {
      "cell_type": "markdown",
      "source": [
        "Ваши висновки тут:"
      ],
      "metadata": {
        "id": "yeELx-e8F2ht"
      }
    },
    {
      "cell_type": "markdown",
      "source": [
        "**Задача 4: Виявлення тренду. Рухоме середнє для Києва**\n",
        "Умова: Виведіть таблицю, відсортовану за прибутком у спадному порядку.\n",
        "\n",
        "Виконайте код нижче:"
      ],
      "metadata": {
        "id": "AIfZSxDR49ZN"
      }
    },
    {
      "cell_type": "code",
      "source": [
        "# Фільтрація даних для Києва\n",
        "kyiv = df[df[\"Місто\"] == \"Київ\"]\n",
        "\n",
        "# Агрегування продажів по місяцях\n",
        "kyiv_monthly = kyiv.resample(\"M\")[\"Продажі\"].sum()\n",
        "\n",
        "# Побудова графіку\n",
        "plt.figure(figsize=(10, 5))\n",
        "kyiv_monthly.plot(marker=\"o\", linestyle=\"-\", color=\"teal\")\n",
        "plt.title(\"Продажі в Києві по місяцях\")\n",
        "plt.xlabel(\"Місяць\")\n",
        "plt.ylabel(\"Сума продажів\")\n",
        "plt.grid(True, linestyle=\"--\", alpha=0.6)\n",
        "plt.tight_layout()"
      ],
      "metadata": {
        "id": "C_JhMkHK5JJk",
        "colab": {
          "base_uri": "https://localhost:8080/",
          "height": 373
        },
        "outputId": "9afde8a7-a396-4e11-ec00-2005df336acb"
      },
      "execution_count": 38,
      "outputs": [
        {
          "output_type": "stream",
          "name": "stderr",
          "text": [
            "/tmp/ipython-input-957349630.py:5: FutureWarning: 'M' is deprecated and will be removed in a future version, please use 'ME' instead.\n",
            "  kyiv_monthly = kyiv.resample(\"M\")[\"Продажі\"].sum()\n"
          ]
        },
        {
          "output_type": "display_data",
          "data": {
            "text/plain": [
              "<Figure size 1000x500 with 1 Axes>"
            ],
            "image/png": "[encoded data removed]"
          },
          "metadata": {}
        }
      ]
    },
    {
      "cell_type": "markdown",
      "source": [
        "**Завдання для самостійного виконання:**\n",
        "\n",
        "Побудуйте 6-місячне рухоме середнє для Харкова. Зробіть висновок про зміну тренду."
      ],
      "metadata": {
        "id": "i9BJ9vzD5Me8"
      }
    },
    {
      "cell_type": "code",
      "source": [
        "# Ваш код тут"
      ],
      "metadata": {
        "id": "ugBkkRfy5VLx"
      },
      "execution_count": null,
      "outputs": []
    },
    {
      "cell_type": "markdown",
      "source": [
        "Ваші висновки тут:"
      ],
      "metadata": {
        "id": "g20ZbcrmNV7h"
      }
    },
    {
      "cell_type": "markdown",
      "source": [
        "**Індивідуальне завдання**\n",
        "є однакові для всіх дані у файлі Sales1.csv:\n",
        "\n",
        "Розв'яжіть задачу свого варіанту, побудуйте графік, який найкраще підходить для вашого аналізу\n",
        "\n",
        "1️⃣ Загальні продажі по місяцях\n",
        "🔹 Агрегуйте дані по місяцях 🔹 Обчисліть суму продажів для кожного місяця 🔹 Визначте місяць з найвищими продажами\n",
        "\n",
        "2️⃣ Середні продажі по кварталах\n",
        "🔹 Зробіть передискретизацію до квартальної частоти 🔹 Обчисліть середні продажі по кожному кварталу 🔹 Зробіть висновок про сезонність\n",
        "\n",
        "3️⃣ Продажі по роках\n",
        "🔹 Витягніть рік з дати 🔹 Агрегуйте дані по роках 🔹 Порівняйте загальні продажі між 2023 і 2024 роками\n",
        "\n",
        "4️⃣ Продажі в конкретному місті\n",
        "🔹 Виберіть дані для одного міста (наприклад, Львів) 🔹 Агрегуйте продажі по місяцях 🔹 Визначте місяць з найнижчими продажами\n",
        "\n",
        "5️⃣ Рухоме середнє\n",
        "🔹 Побудуйте часовий ряд продажів по місяцях 🔹 Застосуйте 3-місячне рухоме середнє 🔹 Порівняйте згладжений ряд з оригінальним\n",
        "\n",
        "6️⃣ Порівняння категорій товарів\n",
        "🔹 Згрупуйте дані по категоріях 🔹 Обчисліть середні продажі для кожної категорії 🔹 Визначте найуспішнішу категорію\n",
        "\n",
        "7️⃣ Виявлення тренду\n",
        "🔹 Створіть часовий ряд продажів для одного міста 🔹 Застосуйте .rolling(window=6).mean() 🔹 Опишіть зміну тренду протягом двох років\n",
        "\n",
        "8️⃣ Аналіз сезонності\n",
        "🔹 Створіть часовий ряд продажів по місяцях 🔹 Обчисліть середні продажі для кожного місяця (січень, лютий, …) 🔹 Визначте, які місяці мають стабільно високі або низькі продажі\n",
        "\n",
        "9️⃣ Відхилення від середнього\n",
        "🔹 Створіть часовий ряд продажів 🔹 Обчисліть середнє значення 🔹 Знайдіть місяці, де продажі були на 20% вище або нижче середнього\n",
        "\n",
        "🔟 Порівняння міст\n",
        "🔹 Створіть окремі часові ряди для кожного міста 🔹 Обчисліть загальні продажі по місяцях 🔹 Визначте, яке місто лідирує найчастіше"
      ],
      "metadata": {
        "id": "bkXnuC2F5wvu"
      }
    },
    {
      "cell_type": "code",
      "source": [
        "#Ваш код тут:"
      ],
      "metadata": {
        "id": "pFrjY9XUVS4P"
      },
      "execution_count": null,
      "outputs": []
    },
    {
      "cell_type": "markdown",
      "source": [
        "Ваші висновки тут:"
      ],
      "metadata": {
        "id": "DDq-CDqLVXJl"
      }
    }
  ]
}