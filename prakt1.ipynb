{
  "nbformat": 4,
  "nbformat_minor": 0,
  "metadata": {
    "colab": {
      "provenance": [],
      "authorship_tag": "ABX9TyOJJg+aK2Iv29hM3MF5ixwM",
      "include_colab_link": true
    },
    "kernelspec": {
      "name": "python3",
      "display_name": "Python 3"
    },
    "language_info": {
      "name": "python"
    }
  },
  "cells": [
    {
      "cell_type": "markdown",
      "metadata": {
        "id": "view-in-github",
        "colab_type": "text"
      },
      "source": [
        "<a href=\"https://colab.research.google.com/github/NataliaPoluektova/TPBA/blob/main/prakt1.ipynb\" target=\"_parent\"><img src=\"https://colab.research.google.com/assets/colab-badge.svg\" alt=\"Open In Colab\"/></a>"
      ]
    },
    {
      "cell_type": "markdown",
      "metadata": {
        "id": "iDMmyJgb1orq"
      },
      "source": [
        "# Практична робота №1\n",
        "**Тема:** Повторення основних можливостей роботи з Python.\n",
        "\n",
        "## Мета роботи\n",
        "1. Згадати основи програмування на мові Python\n",
        "##Ключові конструкції:\n",
        "\n",
        "Списки (list): зберігання колекцій даних\n",
        "\n",
        "Цикли (for, while): повторення дій\n",
        "\n",
        "Умовні оператори (if, elif, else): логічні перевірки\n",
        "\n",
        "Функції (def): створення багаторазових блоків коду\n"
      ]
    },
    {
      "cell_type": "markdown",
      "source": [
        "**Задача 1: Аналіз щомісячного прибутку**\n",
        "\n",
        "Умова: Є список з прибутками компанії за 12 місяців. Вивести загальний прибуток, середній прибуток та кількість місяців з прибутком вище середнього.\n",
        "\n",
        "Виконайте код нижче:"
      ],
      "metadata": {
        "id": "0QdfncmD3KPH"
      }
    },
    {
      "cell_type": "code",
      "source": [
        "profits = [12000, 15000, 13000, 17000, 16000, 18000, 14000, 15500, 16500, 17500, 19000, 20000]\n",
        "\n",
        "total = sum(profits)\n",
        "average = total / len(profits)\n",
        "above_average_months = [p for p in profits if p > average]\n",
        "\n",
        "print(\"Загальний прибуток:\", total)\n",
        "print(\"Середній прибуток:\", average)\n",
        "print(\"Місяців з прибутком вище середнього:\", len(above_average_months))"
      ],
      "metadata": {
        "id": "4YGjXP6F1tQe"
      },
      "execution_count": null,
      "outputs": []
    },
    {
      "cell_type": "markdown",
      "source": [
        "**Завдання для самостійного виконання:**\n",
        "Є список витрат компанії за 12 місяців. Обчисліть:\n",
        "\n",
        "Загальні витрати\n",
        "\n",
        "Середні витрати\n",
        "\n",
        "Кількість місяців, де витрати були нижчими за середні"
      ],
      "metadata": {
        "id": "u8PADa_B3eud"
      }
    },
    {
      "cell_type": "code",
      "source": [
        "expenses = [9500, 11000, 8700, 12000, 10500, 9800, 10200, 11500, 9900, 10800, 9400, 10000]\n",
        "# Ваш код тут"
      ],
      "metadata": {
        "id": "Z1ZX5GH03rko"
      },
      "execution_count": null,
      "outputs": []
    },
    {
      "cell_type": "markdown",
      "source": [
        "**Задача 2: Класифікація витрат**\n",
        "Умова: Є список витрат. Кожну витрату класифікувати як «низька», «середня» або «висока» залежно від порогів.\n",
        "\n",
        "Виконайте приклад нижче:"
      ],
      "metadata": {
        "id": "Cn6x7RIo3wnR"
      }
    },
    {
      "cell_type": "code",
      "source": [
        "expenses = [500, 1200, 300, 2500, 800, 4000]\n",
        "\n",
        "def classify_expense(amount):\n",
        "    if amount < 1000:\n",
        "        return \"низька\"\n",
        "    elif amount < 3000:\n",
        "        return \"середня\"\n",
        "    else:\n",
        "        return \"висока\"\n",
        "\n",
        "for e in expenses:\n",
        "    print(f\"Витрата {e} грн — {classify_expense(e)}\")"
      ],
      "metadata": {
        "id": "5VXtaFiI3-MH"
      },
      "execution_count": null,
      "outputs": []
    },
    {
      "cell_type": "markdown",
      "source": [
        "**Завдання для самостійного виконання:** Є список доходів від різних джерел. Класифікуйте кожен дохід як «малий», «середній» або «великий»:\n",
        "\n",
        "Малий: < 5000 грн\n",
        "\n",
        "Середній: 5000–15000 грн\n",
        "\n",
        "Великий: > 15000 грн"
      ],
      "metadata": {
        "id": "jfx47kuh4EK2"
      }
    },
    {
      "cell_type": "code",
      "source": [
        "incomes = [3000, 7000, 16000, 12000, 4500, 18000]\n",
        "# Ваш код тут"
      ],
      "metadata": {
        "id": "vKeFzWxr4LHk"
      },
      "execution_count": null,
      "outputs": []
    },
    {
      "cell_type": "markdown",
      "source": [
        "**Задача 3: Розрахунок приросту продажів**\n",
        "Умова: Є список продажів за кілька місяців. Обчислити приріст у відсотках між кожним місяцем.\n",
        "\n",
        "Виконайте приклад нижче:"
      ],
      "metadata": {
        "id": "-K7eI7fK4OYX"
      }
    },
    {
      "cell_type": "code",
      "source": [
        "sales = [10000, 12000, 15000, 14000, 16000]\n",
        "\n",
        "for i in range(1, len(sales)):\n",
        "    growth = ((sales[i] - sales[i-1]) / sales[i-1]) * 100\n",
        "    print(f\"Приріст з місяця {i} до {i+1}: {growth:.2f}%\")"
      ],
      "metadata": {
        "id": "YCjvL9DV4lgp"
      },
      "execution_count": null,
      "outputs": []
    },
    {
      "cell_type": "markdown",
      "source": [
        "**Завдання для самостійного виконання:** Є список кількості клієнтів за кожен місяць. Обчисліть приріст клієнтів у відсотках між кожним місяцем."
      ],
      "metadata": {
        "id": "EHctIPlh4ppY"
      }
    },
    {
      "cell_type": "code",
      "source": [
        "clients = [250, 300, 280, 350, 400]\n",
        "# Ваш код тут"
      ],
      "metadata": {
        "id": "9qMUBenO46Co"
      },
      "execution_count": null,
      "outputs": []
    },
    {
      "cell_type": "markdown",
      "source": [
        "**Задача 4: Пошук найбільш рентабельного продукту**\n",
        "Умова: Є список продуктів з цінами продажу та собівартістю. Знайти продукт з найбільшим прибутком.\n",
        "\n",
        "Виконайте код нижче:"
      ],
      "metadata": {
        "id": "AIfZSxDR49ZN"
      }
    },
    {
      "cell_type": "code",
      "source": [
        "products = [\n",
        "    {\"назва\": \"Продукт A\", \"ціна\": 150, \"собівартість\": 100},\n",
        "    {\"назва\": \"Продукт B\", \"ціна\": 200, \"собівартість\": 120},\n",
        "    {\"назва\": \"Продукт C\", \"ціна\": 180, \"собівартість\": 130},\n",
        "]\n",
        "\n",
        "max_profit = 0\n",
        "best_product = \"\"\n",
        "\n",
        "for p in products:\n",
        "    profit = p[\"ціна\"] - p[\"собівартість\"]\n",
        "    if profit > max_profit:\n",
        "        max_profit = profit\n",
        "        best_product = p[\"назва\"]\n",
        "\n",
        "print(\"Найбільш рентабельний продукт:\", best_product)"
      ],
      "metadata": {
        "id": "C_JhMkHK5JJk"
      },
      "execution_count": null,
      "outputs": []
    },
    {
      "cell_type": "markdown",
      "source": [
        "**Завдання для самостійного виконання:** Є список послуг з цінами та витратами на їх надання. Знайдіть послугу з найменшим прибутком."
      ],
      "metadata": {
        "id": "i9BJ9vzD5Me8"
      }
    },
    {
      "cell_type": "code",
      "source": [
        "services = [\n",
        "    {\"назва\": \"Консультація\", \"ціна\": 500, \"собівартість\": 200},\n",
        "    {\"назва\": \"Аудит\", \"ціна\": 800, \"собівартість\": 600},\n",
        "    {\"назва\": \"Навчання\", \"ціна\": 1000, \"собівартість\": 950},\n",
        "]\n",
        "# Ваш код тут"
      ],
      "metadata": {
        "id": "ugBkkRfy5VLx"
      },
      "execution_count": null,
      "outputs": []
    },
    {
      "cell_type": "markdown",
      "source": [
        "**Задача 5: Автоматичний розрахунок податку**\n",
        "Умова: Створити функцію, яка приймає дохід і повертає суму податку за ставкою 18% + 1.5% військового збору.\n",
        "\n",
        "Виконайте код нижче:"
      ],
      "metadata": {
        "id": "feXeQvwd5YRh"
      }
    },
    {
      "cell_type": "code",
      "source": [
        "def calculate_tax(income):\n",
        "    tax = income * 0.18\n",
        "    military_tax = income * 0.015\n",
        "    return tax + military_tax\n",
        "\n",
        "incomes = [10000, 15000, 20000]\n",
        "\n",
        "for inc in incomes:\n",
        "    print(f\"Дохід: {inc} грн — Податок: {calculate_tax(inc):.2f} грн\")"
      ],
      "metadata": {
        "id": "dugcutAE5hrA"
      },
      "execution_count": null,
      "outputs": []
    },
    {
      "cell_type": "markdown",
      "source": [
        "**Завдання для самостійного виконання:** Створіть функцію, яка приймає витрати і повертає суму ПДВ (ставка 20%). Обчисліть ПДВ для кожної витрати."
      ],
      "metadata": {
        "id": "dnk-GNHL5mrg"
      }
    },
    {
      "cell_type": "code",
      "source": [
        "def calculate_vat(expense):\n",
        "    # Ваш код тут\n",
        "\n",
        "expenses = [1000, 2500, 4000, 1500]\n",
        "# Ваш код тут"
      ],
      "metadata": {
        "id": "w5vpkQbY5ssQ"
      },
      "execution_count": null,
      "outputs": []
    },
    {
      "cell_type": "markdown",
      "source": [
        "**Індивідуальне завдання**\n",
        "Розв'яжіть задачу свого варіанту.\n",
        "\n",
        "Варіант1. Є список залишків товарів у штуках. Виведіть кількість товарів, які потребують поповнення (менше 10 одиниць).\n",
        "\n",
        "Варіант 2. Завдання: Є список витрат клієнта. Якщо загальна сума перевищує 5000 грн, вивести повідомлення про перевищення ліміту.\n",
        "\n",
        "Варіант 3. Є список доходів за 6 місяців. Знайдіть місяць з максимальним доходом.\n",
        "\n",
        "Варіант 4. Створіть функцію, яка приймає суму покупки і повертає знижку:\n",
        "\n",
        "Варіант 5. Є список інвестицій і прибутків. Обчисліть ROI (return on investment) для кожного варіанту.\n",
        "\n",
        "Варіант 6. Є список витрат клієнтів. Розділіть їх на три групи: <1000, 1000–3000, >3000\n",
        "\n",
        "Варіант 7. Створіть функцію, яка приймає суму кредиту, кількість місяців і річну ставку, та повертає щомісячний платіж (простий розрахунок без складних формул).\n",
        "\n",
        "Варіант 8. Є список продажів. Виведіть кількість випадків, коли продажі зменшились порівняно з попереднім місяцем.\n",
        "\n",
        "Варіант 9. Є список товарів з цінами. Створіть функцію, яка приймає список і повертає загальну суму рахунку.\n",
        "\n",
        "Варіант 10.Є список зарплат працівників. Обчисліть середню зарплату та виведіть список тих, хто отримує менше середнього."
      ],
      "metadata": {
        "id": "bkXnuC2F5wvu"
      }
    },
    {
      "cell_type": "markdown",
      "source": [],
      "metadata": {
        "id": "PWMpNRjE3Im5"
      }
    },
    {
      "cell_type": "code",
      "source": [
        "#Ваш код тут:"
      ],
      "metadata": {
        "id": "9XZYAuvEWfK8"
      },
      "execution_count": null,
      "outputs": []
    }
  ]
}