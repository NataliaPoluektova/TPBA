{
  "nbformat": 4,
  "nbformat_minor": 0,
  "metadata": {
    "colab": {
      "provenance": [],
      "authorship_tag": "ABX9TyMc8lgJ43meSRpUr4bz3mXK",
      "include_colab_link": true
    },
    "kernelspec": {
      "name": "python3",
      "display_name": "Python 3"
    },
    "language_info": {
      "name": "python"
    }
  },
  "cells": [
    {
      "cell_type": "markdown",
      "metadata": {
        "id": "view-in-github",
        "colab_type": "text"
      },
      "source": [
        "<a href=\"https://colab.research.google.com/github/NataliaPoluektova/TPBA/blob/main/prakt6.ipynb\" target=\"_parent\"><img src=\"https://colab.research.google.com/assets/colab-badge.svg\" alt=\"Open In Colab\"/></a>"
      ]
    },
    {
      "cell_type": "markdown",
      "metadata": {
        "id": "iDMmyJgb1orq"
      },
      "source": [
        "# Практична робота №6\n",
        "**Тема:** Завантаження та збереження даних\n",
        "\n",
        "## Мета роботи\n",
        "1. Навчитися завантажувати дані для аналізу та зберігати їх в різних форматах\n",
        "\n",
        "\n"
      ]
    },
    {
      "cell_type": "markdown",
      "source": [
        "**Задача 1: Завантаження даних з формату CSV**\n",
        "\n",
        "Виконайте та проаналізуйте приклад нижче:"
      ],
      "metadata": {
        "id": "0QdfncmD3KPH"
      }
    },
    {
      "cell_type": "code",
      "source": [
        "import pandas as pd\n",
        "\n",
        "df = pd.read_csv(\"https://raw.githubusercontent.com/NataliaPoluektova/TPBA/refs/heads/main/sales.csv\")\n",
        "print(\"Перші рядки таблиці:\")\n",
        "print(df.head())\n",
        "\n",
        "print(\"Типи даних:\")\n",
        "print(df.dtypes)"
      ],
      "metadata": {
        "id": "4YGjXP6F1tQe"
      },
      "execution_count": null,
      "outputs": []
    },
    {
      "cell_type": "markdown",
      "source": [
        "**Завдання для самостійного виконання:**\n",
        "Завантажте файл expenses.csv, у якому роздільник — крапка з комою.\n",
        "\n",
        "df = pd.read_csv(\"ШЛЯХ/expenses.csv\", sep=\";\")\n",
        "\n",
        "Виведіть перші 3 рядки та типи даних. Чи є пропущені значення?"
      ],
      "metadata": {
        "id": "u8PADa_B3eud"
      }
    },
    {
      "cell_type": "code",
      "source": [
        "# Ваш код тут"
      ],
      "metadata": {
        "id": "Z1ZX5GH03rko"
      },
      "execution_count": null,
      "outputs": []
    },
    {
      "cell_type": "markdown",
      "source": [
        "Ваші висновки тут:"
      ],
      "metadata": {
        "id": "jcOor8fse4Zv"
      }
    },
    {
      "cell_type": "markdown",
      "source": [
        "**Задача 2: Завантаження з формату JSON. Заповнення пропущених значень**\n",
        "У файлі clients.json є пропуски в колонці \"city\".\n",
        "\n",
        ".fillna(\"Невідомо\") — замінює NaN на текст\n",
        "\n",
        "inplace=True — змінює таблицю без створення копії\n",
        "\n",
        "Виконайте приклад нижче:"
      ],
      "metadata": {
        "id": "Cn6x7RIo3wnR"
      }
    },
    {
      "cell_type": "code",
      "source": [
        "df = pd.read_json(\"https://raw.githubusercontent.com/NataliaPoluektova/TPBA/refs/heads/main/clients.json\")\n",
        "print(\"До заповнення:\")\n",
        "print(df)\n",
        "\n",
        "df.fillna(\"Невідомо\", inplace=True)\n",
        "print(\"Після заповнення:\")\n",
        "print(df)"
      ],
      "metadata": {
        "id": "5VXtaFiI3-MH"
      },
      "execution_count": null,
      "outputs": []
    },
    {
      "cell_type": "markdown",
      "source": [
        "**Завдання для самостійного виконання:** Завантажте файл orders.json, заповніть пропуски в колонці \"status\" значенням \"Очікується\". Виведіть кількість заповнених рядків."
      ],
      "metadata": {
        "id": "jfx47kuh4EK2"
      }
    },
    {
      "cell_type": "code",
      "source": [
        "# Ваш код тут"
      ],
      "metadata": {
        "id": "vKeFzWxr4LHk"
      },
      "execution_count": null,
      "outputs": []
    },
    {
      "cell_type": "markdown",
      "source": [
        "**Задача 3: Читання Excel-файлу**\n",
        "Умова: завантажимо лист \"Продажі\" з Excel-файлу, розрахуємо виручку, зробимо агрегацію даних по категоріях, визначимо топ-3 найприбутковіших товарів.\n",
        "\n",
        "Виконайте приклад нижче:"
      ],
      "metadata": {
        "id": "-K7eI7fK4OYX"
      }
    },
    {
      "cell_type": "code",
      "source": [
        "df = pd.read_excel(\"https://raw.githubusercontent.com/NataliaPoluektova/TPBA/refs/heads/main/sales_data.xlsx\")\n",
        "print(df.head())\n",
        "\n",
        "df[\"Виручка\"] = df[\"Кількість\"] * df[\"Ціна за одиницю\"]\n",
        "print(df[[\"Назва товару\", \"Кількість\", \"Ціна за одиницю\", \"Виручка\"]])\n",
        "\n",
        "category_revenue = df.groupby(\"Категорія товару\")[\"Виручка\"].sum().reset_index()\n",
        "print(category_revenue)\n",
        "\n",
        "top_products = df.groupby(\"Назва товару\")[\"Виручка\"].sum().sort_values(ascending=False).head(3)\n",
        "print(top_products)\n",
        "\n"
      ],
      "metadata": {
        "id": "YCjvL9DV4lgp"
      },
      "execution_count": null,
      "outputs": []
    },
    {
      "cell_type": "markdown",
      "source": [
        "**Завдання для самостійного виконання:** Файл: inventory.xlsx Колонки: Назва товару, Категорія, Кількість на складі, Ціна закупки\n",
        "\n",
        "🔸 Завдання:\n",
        "\n",
        "Завантажте Excel-файл inventory.xlsx.\n",
        "\n",
        "Додайте колонку \"Загальна вартість\" = Кількість на складі × Ціна закупки.\n",
        "\n",
        "Порахуйте загальну вартість товарів по кожній категорії.\n",
        "\n",
        "Виведіть топ-3 категорії за загальною вартістю.\n"
      ],
      "metadata": {
        "id": "EHctIPlh4ppY"
      }
    },
    {
      "cell_type": "code",
      "source": [
        "# Ваш код тут"
      ],
      "metadata": {
        "id": "9qMUBenO46Co",
        "colab": {
          "base_uri": "https://localhost:8080/",
          "height": 17
        },
        "outputId": "7a34dfba-cf7a-401a-9dda-178a2b7414a9"
      },
      "execution_count": null,
      "outputs": [
        {
          "output_type": "display_data",
          "data": {
            "text/plain": [
              "<IPython.core.display.Javascript object>"
            ],
            "application/javascript": [
              "\n",
              "    async function download(id, filename, size) {\n",
              "      if (!google.colab.kernel.accessAllowed) {\n",
              "        return;\n",
              "      }\n",
              "      const div = document.createElement('div');\n",
              "      const label = document.createElement('label');\n",
              "      label.textContent = `Downloading \"${filename}\": `;\n",
              "      div.appendChild(label);\n",
              "      const progress = document.createElement('progress');\n",
              "      progress.max = size;\n",
              "      div.appendChild(progress);\n",
              "      document.body.appendChild(div);\n",
              "\n",
              "      const buffers = [];\n",
              "      let downloaded = 0;\n",
              "\n",
              "      const channel = await google.colab.kernel.comms.open(id);\n",
              "      // Send a message to notify the kernel that we're ready.\n",
              "      channel.send({})\n",
              "\n",
              "      for await (const message of channel.messages) {\n",
              "        // Send a message to notify the kernel that we're ready.\n",
              "        channel.send({})\n",
              "        if (message.buffers) {\n",
              "          for (const buffer of message.buffers) {\n",
              "            buffers.push(buffer);\n",
              "            downloaded += buffer.byteLength;\n",
              "            progress.value = downloaded;\n",
              "          }\n",
              "        }\n",
              "      }\n",
              "      const blob = new Blob(buffers, {type: 'application/binary'});\n",
              "      const a = document.createElement('a');\n",
              "      a.href = window.URL.createObjectURL(blob);\n",
              "      a.download = filename;\n",
              "      div.appendChild(a);\n",
              "      a.click();\n",
              "      div.remove();\n",
              "    }\n",
              "  "
            ]
          },
          "metadata": {}
        },
        {
          "output_type": "display_data",
          "data": {
            "text/plain": [
              "<IPython.core.display.Javascript object>"
            ],
            "application/javascript": [
              "download(\"download_2796f49f-0927-40e2-b652-a36c4218d277\", \"inventory.xlsx\", 5349)"
            ]
          },
          "metadata": {}
        }
      ]
    },
    {
      "cell_type": "markdown",
      "source": [
        "**Задача 4: Робота з базою даних SQLite**\n",
        "сoffee.db.\n",
        "Це локальна база даних, яка зберігає інформацію про продажі в кав’ярні. Ми працюємо з нею за допомогою бібліотеки sqlite3 і імпортуємо дані у pandas для аналізу.\n",
        "\n",
        "*Крок 1*. Створюємо в цій базі даних нову таблицю і додаємо до неї дані\n",
        "Виконайте цей код"
      ],
      "metadata": {
        "id": "AIfZSxDR49ZN"
      }
    },
    {
      "cell_type": "code",
      "source": [
        "import sqlite3\n",
        "import pandas as pd\n",
        "# Для sql шлях до файлу потрібно вказувати спеціальним чином\n",
        "!wget https://raw.githubusercontent.com/NataliaPoluektova/TPBA/main/coffee.db\n",
        "\n",
        "# Підключення до бази\n",
        "conn = sqlite3.connect(\"coffee.db\")\n",
        "\n",
        "# Створення таблиці\n",
        "conn.execute(\"\"\"\n",
        "CREATE TABLE IF NOT EXISTS sales (\n",
        "    id INTEGER PRIMARY KEY,\n",
        "    product TEXT,\n",
        "    quantity INTEGER,\n",
        "    price REAL\n",
        ")\n",
        "\"\"\")\n",
        "\n",
        "# Додавання одного запису\n",
        "conn.execute(\"INSERT INTO sales (product, quantity, price) VALUES (?, ?, ?)\", (\"Latte\", 3, 45.0))\n",
        "\n",
        "conn.commit()\n"
      ],
      "metadata": {
        "id": "C_JhMkHK5JJk",
        "colab": {
          "base_uri": "https://localhost:8080/"
        },
        "outputId": "e1e99904-3d99-4c8e-be6e-0af026c4f3d6"
      },
      "execution_count": 11,
      "outputs": [
        {
          "output_type": "stream",
          "name": "stdout",
          "text": [
            "--2025-10-28 12:01:07--  https://raw.githubusercontent.com/NataliaPoluektova/TPBA/main/coffee.db\n",
            "Resolving raw.githubusercontent.com (raw.githubusercontent.com)... 185.199.111.133, 185.199.110.133, 185.199.109.133, ...\n",
            "Connecting to raw.githubusercontent.com (raw.githubusercontent.com)|185.199.111.133|:443... connected.\n",
            "HTTP request sent, awaiting response... 200 OK\n",
            "Length: 8192 (8.0K) [application/octet-stream]\n",
            "Saving to: ‘coffee.db.2’\n",
            "\n",
            "\rcoffee.db.2           0%[                    ]       0  --.-KB/s               \rcoffee.db.2         100%[===================>]   8.00K  --.-KB/s    in 0.001s  \n",
            "\n",
            "2025-10-28 12:01:07 (12.8 MB/s) - ‘coffee.db.2’ saved [8192/8192]\n",
            "\n"
          ]
        }
      ]
    },
    {
      "cell_type": "code",
      "source": [
        "df = pd.read_sql(\"SELECT * FROM sales\", conn)\n",
        "print(df)\n",
        "conn.close()"
      ],
      "metadata": {
        "outputId": "5b8f7068-dba5-4086-cb1f-cbd25958625d",
        "colab": {
          "base_uri": "https://localhost:8080/"
        },
        "id": "GqGfKDrOsSvv"
      },
      "execution_count": 12,
      "outputs": [
        {
          "output_type": "stream",
          "name": "stdout",
          "text": [
            "    id    product  quantity  price\n",
            "0    1      Latte         3   45.0\n",
            "1    2  Croissant         2   30.0\n",
            "2    3   Espresso         1   40.0\n",
            "3    4      Latte         3   45.0\n",
            "4    5  Croissant         2   30.0\n",
            "5    6   Espresso         1   40.0\n",
            "6    7      Latte         3   45.0\n",
            "7    8  Croissant         2   30.0\n",
            "8    9   Espresso         1   40.0\n",
            "9   10      Latte         3   45.0\n",
            "10  11      Latte         3   45.0\n",
            "11  12      Latte         3   45.0\n"
          ]
        }
      ]
    },
    {
      "cell_type": "markdown",
      "source": [
        "**Завдання для самостійного виконання:** Додайте ще 5 рядків про продажі."
      ],
      "metadata": {
        "id": "i9BJ9vzD5Me8"
      }
    },
    {
      "cell_type": "markdown",
      "source": [
        "*Крок 2*. Читаємо дані з бази даних у DataFrame:\n",
        "sqlite3.connect(\"coffee.db\") — створює або відкриває базу\n",
        "\n",
        "execute(...) — виконує SQL-запит\n",
        "\n",
        "read_sql(...) — імпортує таблицю у pandas для аналізу\n"
      ],
      "metadata": {
        "id": "Zl7aoX1el3LU"
      }
    },
    {
      "cell_type": "markdown",
      "source": [
        "*Крок 3* Знайдемо назву найдорожчего товару\n"
      ],
      "metadata": {
        "id": "ugOYCZcAnK4D"
      }
    },
    {
      "cell_type": "code",
      "source": [
        "# Знайти рядок з максимальною ціною\n",
        "max_price_row = df[df[\"price\"] == df[\"price\"].max()]\n",
        "\n",
        "# Вивести назву товару\n",
        "print(\"Найдорожчий товар:\", max_price_row[\"product\"].values[0])"
      ],
      "metadata": {
        "id": "ugBkkRfy5VLx",
        "outputId": "a0e79307-2ee5-4c72-fcfd-10432841d215",
        "colab": {
          "base_uri": "https://localhost:8080/"
        }
      },
      "execution_count": 14,
      "outputs": [
        {
          "output_type": "stream",
          "name": "stdout",
          "text": [
            "Найдорожчий товар: Latte\n"
          ]
        }
      ]
    },
    {
      "cell_type": "markdown",
      "source": [
        "**Завдання для самостійного виконання**\n",
        "Створіть нову таблицю clients з такими полями:\n",
        "\n",
        "id — ціле число, первинний ключ\n",
        "\n",
        "name — текстове ім’я клієнта\n",
        "\n",
        "city — місто проживання\n",
        "\n",
        "Додайте два записи:\n",
        "\n",
        "\"Олена\", \"Київ\"\n",
        "\n",
        "\"Ігор\", \"Львів\"\n",
        "\n",
        "Виведіть усіх клієнтів з міста \"Львів\" у вигляді таблиці pandas."
      ],
      "metadata": {
        "id": "feXeQvwd5YRh"
      }
    },
    {
      "cell_type": "code",
      "source": [
        "#Ваш код тут:"
      ],
      "metadata": {
        "id": "dugcutAE5hrA"
      },
      "execution_count": null,
      "outputs": []
    },
    {
      "cell_type": "markdown",
      "source": [
        "**Індивідуальні завдання**\n",
        "\n",
        "Виконайте завдання свого варіанту\n",
        "\n",
        "🔹 ІДЗ 1 — sales.csv\n",
        "Завантажте файл sales.csv. Додайте колонку \"Виручка\" як добуток \"Кількість\" × \"Ціна за одиницю\". Збережіть таблицю у sales_with_revenue.csv. Який товар має найбільшу виручку?\n",
        "\n",
        "🔹 ІДЗ 2 — expenses.csv\n",
        "Завантажте файл expenses.csv з роздільником ;. Заповніть пропущені значення в колонці \"Витрати\" середнім значенням. Збережіть результат у expenses_filled.csv.\n",
        "\n",
        "🔹 ІДЗ 3 — big_data.csv\n",
        "Завантажте перші 6 рядків з файлу big_data.csv. Порахуйте кількість пропущених значень у колонці \"c\". Яке повідомлення (message) зустрічається найчастіше?\n",
        "\n",
        "🔹 ІДЗ 4 — clients.json\n",
        "Завантажте файл clients.json. Заповніть пропуски в колонці \"city\" значенням \"Невідомо\". Збережіть оновлений файл у clients_cleaned.json.\n",
        "\n",
        "🔹 ІДЗ 5 — sales_data.xlsx\n",
        "Завантажте Excel-файл sales_data.xlsx. Обчисліть виручку по кожному товару. Виведіть топ-3 категорії товарів за загальною виручкою. Збережіть результат у sales_summary.csv.\n",
        "\n",
        "🔹 ІДЗ 6 — inventory.xlsx\n",
        "Завантажте файл inventory.xlsx. Додайте колонку \"Загальна вартість\" = Кількість на складі × Ціна закупки. Збережіть таблицю у inventory_value.xlsx. Яка категорія має найбільшу загальну вартість?\n",
        "\n",
        "🔹 ІДЗ 7 — coffee.db\n",
        "Підключіться до бази coffee.db. Знайдіть назву товару з найбільшою ціною у таблиці sales. Скільки товарів мають ціну понад 40 грн?\n",
        "\n",
        "🔹 ІДЗ 8 — coffee.db\n",
        "Створіть таблицю clients з полями id, name, city. Додайте 3 записи. Виведіть усіх клієнтів з міста \"Київ\".\n",
        "\n",
        "🔹 ІДЗ 9 — sales_data.xlsx\n",
        "Завантажте файл sales_data.xlsx. Побудуйте графік виручки по категоріях товарів. Збережіть його у sales_chart.png.\n",
        "\n",
        "🔹 ІДЗ 10 — sales.csv + clients.json\n",
        "Завантажте обидва файли. Зіставте клієнтів з містами та підрахуйте загальну кількість продажів по кожному місту. Збережіть результат у city_sales.csv."
      ],
      "metadata": {
        "id": "PWMpNRjE3Im5"
      }
    },
    {
      "cell_type": "code",
      "source": [
        "#Ваш код тут:"
      ],
      "metadata": {
        "id": "3mN2V7Ubo166"
      },
      "execution_count": null,
      "outputs": []
    }
  ]
}