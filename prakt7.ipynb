{
  "nbformat": 4,
  "nbformat_minor": 0,
  "metadata": {
    "colab": {
      "provenance": [],
      "authorship_tag": "ABX9TyMkr49e46lRegipKT38JnLI",
      "include_colab_link": true
    },
    "kernelspec": {
      "name": "python3",
      "display_name": "Python 3"
    },
    "language_info": {
      "name": "python"
    }
  },
  "cells": [
    {
      "cell_type": "markdown",
      "metadata": {
        "id": "view-in-github",
        "colab_type": "text"
      },
      "source": [
        "<a href=\"https://colab.research.google.com/github/NataliaPoluektova/TPBA/blob/main/prakt7.ipynb\" target=\"_parent\"><img src=\"https://colab.research.google.com/assets/colab-badge.svg\" alt=\"Open In Colab\"/></a>"
      ]
    },
    {
      "cell_type": "markdown",
      "metadata": {
        "id": "iDMmyJgb1orq"
      },
      "source": [
        "# Практична робота №7\n",
        "**Тема:** Підготовка даних для аналізу\n",
        "\n",
        "## Мета роботи\n",
        "1. Навчитися виконувати очищення, об'єднання, перегрупування та дискретизацію даних.\n",
        "\n",
        "Для використання DataFrame потрібно імпортувати бібліотеку pandas:"
      ]
    },
    {
      "cell_type": "code",
      "source": [
        "import pandas as pd"
      ],
      "metadata": {
        "id": "rl1hrINdEJis"
      },
      "execution_count": 1,
      "outputs": []
    },
    {
      "cell_type": "markdown",
      "source": [
        "**Завдання 1. Очищення даних і виявлення аномальних витрат**.\n",
        "\n",
        "Пропущені або аномальні значення можуть призвести до:\n",
        "\n",
        "хибних висновків про прибутковість\n",
        "\n",
        "неправильного планування бюджету\n",
        "\n",
        "втрати коштів через недооцінку витрат\n",
        "\n",
        "Тому очищення даних — перший і обов’язковий крок перед будь-яким аналізом.\n",
        "\n",
        "Виконайте код нижче:"
      ],
      "metadata": {
        "id": "0QdfncmD3KPH"
      }
    },
    {
      "cell_type": "code",
      "source": [
        "import pandas as pd\n",
        "\n",
        "# 1. Завантаження даних з CSV-файлу з роздільником ;\n",
        "df = pd.read_csv(\"expenses.csv\", sep=\";\")\n",
        "\n",
        "# 2. Перевірка на пропущені значення\n",
        "print(\"Пропущені значення у колонці 'Витрати':\")\n",
        "print(df[\"Витрати\"].isna().sum())\n",
        "\n",
        "# 3. Обчислення середнього значення витрат (без пропусків)\n",
        "mean_expense = df[\"Витрати\"].mean(skipna=True)\n",
        "print(f\"Середнє значення витрат: {mean_expense:.2f}\")\n",
        "\n",
        "# 4. Заповнення пропусків середнім значенням\n",
        "df[\"Витрати\"].fillna(mean_expense, inplace=True)\n",
        "\n",
        "# 5. Визначення порогу для викидів (+30% від середнього)\n",
        "threshold = mean_expense * 1.3\n",
        "print(f\"Поріг для викидів: {threshold:.2f}\")\n",
        "\n",
        "# 6. Позначення викидів у новій колонці\n",
        "df[\"Викид\"] = df[\"Витрати\"] > threshold\n",
        "\n",
        "# 7. Збереження очищеної таблиці\n",
        "df.to_csv(\"expenses_cleaned.csv\", sep=\";\", index=False)\n",
        "\n",
        "# 8. Виведення місяців з аномальними витратами\n",
        "print(\"Місяці з підозріло високими витратами:\")\n",
        "print(df[df[\"Викид\"]][[\"Місяць\", \"Витрати\"]])"
      ],
      "metadata": {
        "id": "4YGjXP6F1tQe",
        "outputId": "ca09f844-f7b9-4a81-ff94-317f896435dd",
        "colab": {
          "base_uri": "https://localhost:8080/",
          "height": 382
        }
      },
      "execution_count": 2,
      "outputs": [
        {
          "output_type": "error",
          "ename": "FileNotFoundError",
          "evalue": "[Errno 2] No such file or directory: 'expenses.csv'",
          "traceback": [
            "\u001b[0;31m---------------------------------------------------------------------------\u001b[0m",
            "\u001b[0;31mFileNotFoundError\u001b[0m                         Traceback (most recent call last)",
            "\u001b[0;32m/tmp/ipython-input-2527023065.py\u001b[0m in \u001b[0;36m<cell line: 0>\u001b[0;34m()\u001b[0m\n\u001b[1;32m      2\u001b[0m \u001b[0;34m\u001b[0m\u001b[0m\n\u001b[1;32m      3\u001b[0m \u001b[0;31m# 1. Завантаження даних з CSV-файлу з роздільником ;\u001b[0m\u001b[0;34m\u001b[0m\u001b[0;34m\u001b[0m\u001b[0m\n\u001b[0;32m----> 4\u001b[0;31m \u001b[0mdf\u001b[0m \u001b[0;34m=\u001b[0m \u001b[0mpd\u001b[0m\u001b[0;34m.\u001b[0m\u001b[0mread_csv\u001b[0m\u001b[0;34m(\u001b[0m\u001b[0;34m\"expenses.csv\"\u001b[0m\u001b[0;34m,\u001b[0m \u001b[0msep\u001b[0m\u001b[0;34m=\u001b[0m\u001b[0;34m\";\"\u001b[0m\u001b[0;34m)\u001b[0m\u001b[0;34m\u001b[0m\u001b[0;34m\u001b[0m\u001b[0m\n\u001b[0m\u001b[1;32m      5\u001b[0m \u001b[0;34m\u001b[0m\u001b[0m\n\u001b[1;32m      6\u001b[0m \u001b[0;31m# 2. Перевірка на пропущені значення\u001b[0m\u001b[0;34m\u001b[0m\u001b[0;34m\u001b[0m\u001b[0m\n",
            "\u001b[0;32m/usr/local/lib/python3.12/dist-packages/pandas/io/parsers/readers.py\u001b[0m in \u001b[0;36mread_csv\u001b[0;34m(filepath_or_buffer, sep, delimiter, header, names, index_col, usecols, dtype, engine, converters, true_values, false_values, skipinitialspace, skiprows, skipfooter, nrows, na_values, keep_default_na, na_filter, verbose, skip_blank_lines, parse_dates, infer_datetime_format, keep_date_col, date_parser, date_format, dayfirst, cache_dates, iterator, chunksize, compression, thousands, decimal, lineterminator, quotechar, quoting, doublequote, escapechar, comment, encoding, encoding_errors, dialect, on_bad_lines, delim_whitespace, low_memory, memory_map, float_precision, storage_options, dtype_backend)\u001b[0m\n\u001b[1;32m   1024\u001b[0m     \u001b[0mkwds\u001b[0m\u001b[0;34m.\u001b[0m\u001b[0mupdate\u001b[0m\u001b[0;34m(\u001b[0m\u001b[0mkwds_defaults\u001b[0m\u001b[0;34m)\u001b[0m\u001b[0;34m\u001b[0m\u001b[0;34m\u001b[0m\u001b[0m\n\u001b[1;32m   1025\u001b[0m \u001b[0;34m\u001b[0m\u001b[0m\n\u001b[0;32m-> 1026\u001b[0;31m     \u001b[0;32mreturn\u001b[0m \u001b[0m_read\u001b[0m\u001b[0;34m(\u001b[0m\u001b[0mfilepath_or_buffer\u001b[0m\u001b[0;34m,\u001b[0m \u001b[0mkwds\u001b[0m\u001b[0;34m)\u001b[0m\u001b[0;34m\u001b[0m\u001b[0;34m\u001b[0m\u001b[0m\n\u001b[0m\u001b[1;32m   1027\u001b[0m \u001b[0;34m\u001b[0m\u001b[0m\n\u001b[1;32m   1028\u001b[0m \u001b[0;34m\u001b[0m\u001b[0m\n",
            "\u001b[0;32m/usr/local/lib/python3.12/dist-packages/pandas/io/parsers/readers.py\u001b[0m in \u001b[0;36m_read\u001b[0;34m(filepath_or_buffer, kwds)\u001b[0m\n\u001b[1;32m    618\u001b[0m \u001b[0;34m\u001b[0m\u001b[0m\n\u001b[1;32m    619\u001b[0m     \u001b[0;31m# Create the parser.\u001b[0m\u001b[0;34m\u001b[0m\u001b[0;34m\u001b[0m\u001b[0m\n\u001b[0;32m--> 620\u001b[0;31m     \u001b[0mparser\u001b[0m \u001b[0;34m=\u001b[0m \u001b[0mTextFileReader\u001b[0m\u001b[0;34m(\u001b[0m\u001b[0mfilepath_or_buffer\u001b[0m\u001b[0;34m,\u001b[0m \u001b[0;34m**\u001b[0m\u001b[0mkwds\u001b[0m\u001b[0;34m)\u001b[0m\u001b[0;34m\u001b[0m\u001b[0;34m\u001b[0m\u001b[0m\n\u001b[0m\u001b[1;32m    621\u001b[0m \u001b[0;34m\u001b[0m\u001b[0m\n\u001b[1;32m    622\u001b[0m     \u001b[0;32mif\u001b[0m \u001b[0mchunksize\u001b[0m \u001b[0;32mor\u001b[0m \u001b[0miterator\u001b[0m\u001b[0;34m:\u001b[0m\u001b[0;34m\u001b[0m\u001b[0;34m\u001b[0m\u001b[0m\n",
            "\u001b[0;32m/usr/local/lib/python3.12/dist-packages/pandas/io/parsers/readers.py\u001b[0m in \u001b[0;36m__init__\u001b[0;34m(self, f, engine, **kwds)\u001b[0m\n\u001b[1;32m   1618\u001b[0m \u001b[0;34m\u001b[0m\u001b[0m\n\u001b[1;32m   1619\u001b[0m         \u001b[0mself\u001b[0m\u001b[0;34m.\u001b[0m\u001b[0mhandles\u001b[0m\u001b[0;34m:\u001b[0m \u001b[0mIOHandles\u001b[0m \u001b[0;34m|\u001b[0m \u001b[0;32mNone\u001b[0m \u001b[0;34m=\u001b[0m \u001b[0;32mNone\u001b[0m\u001b[0;34m\u001b[0m\u001b[0;34m\u001b[0m\u001b[0m\n\u001b[0;32m-> 1620\u001b[0;31m         \u001b[0mself\u001b[0m\u001b[0;34m.\u001b[0m\u001b[0m_engine\u001b[0m \u001b[0;34m=\u001b[0m \u001b[0mself\u001b[0m\u001b[0;34m.\u001b[0m\u001b[0m_make_engine\u001b[0m\u001b[0;34m(\u001b[0m\u001b[0mf\u001b[0m\u001b[0;34m,\u001b[0m \u001b[0mself\u001b[0m\u001b[0;34m.\u001b[0m\u001b[0mengine\u001b[0m\u001b[0;34m)\u001b[0m\u001b[0;34m\u001b[0m\u001b[0;34m\u001b[0m\u001b[0m\n\u001b[0m\u001b[1;32m   1621\u001b[0m \u001b[0;34m\u001b[0m\u001b[0m\n\u001b[1;32m   1622\u001b[0m     \u001b[0;32mdef\u001b[0m \u001b[0mclose\u001b[0m\u001b[0;34m(\u001b[0m\u001b[0mself\u001b[0m\u001b[0;34m)\u001b[0m \u001b[0;34m->\u001b[0m \u001b[0;32mNone\u001b[0m\u001b[0;34m:\u001b[0m\u001b[0;34m\u001b[0m\u001b[0;34m\u001b[0m\u001b[0m\n",
            "\u001b[0;32m/usr/local/lib/python3.12/dist-packages/pandas/io/parsers/readers.py\u001b[0m in \u001b[0;36m_make_engine\u001b[0;34m(self, f, engine)\u001b[0m\n\u001b[1;32m   1878\u001b[0m                 \u001b[0;32mif\u001b[0m \u001b[0;34m\"b\"\u001b[0m \u001b[0;32mnot\u001b[0m \u001b[0;32min\u001b[0m \u001b[0mmode\u001b[0m\u001b[0;34m:\u001b[0m\u001b[0;34m\u001b[0m\u001b[0;34m\u001b[0m\u001b[0m\n\u001b[1;32m   1879\u001b[0m                     \u001b[0mmode\u001b[0m \u001b[0;34m+=\u001b[0m \u001b[0;34m\"b\"\u001b[0m\u001b[0;34m\u001b[0m\u001b[0;34m\u001b[0m\u001b[0m\n\u001b[0;32m-> 1880\u001b[0;31m             self.handles = get_handle(\n\u001b[0m\u001b[1;32m   1881\u001b[0m                 \u001b[0mf\u001b[0m\u001b[0;34m,\u001b[0m\u001b[0;34m\u001b[0m\u001b[0;34m\u001b[0m\u001b[0m\n\u001b[1;32m   1882\u001b[0m                 \u001b[0mmode\u001b[0m\u001b[0;34m,\u001b[0m\u001b[0;34m\u001b[0m\u001b[0;34m\u001b[0m\u001b[0m\n",
            "\u001b[0;32m/usr/local/lib/python3.12/dist-packages/pandas/io/common.py\u001b[0m in \u001b[0;36mget_handle\u001b[0;34m(path_or_buf, mode, encoding, compression, memory_map, is_text, errors, storage_options)\u001b[0m\n\u001b[1;32m    871\u001b[0m         \u001b[0;32mif\u001b[0m \u001b[0mioargs\u001b[0m\u001b[0;34m.\u001b[0m\u001b[0mencoding\u001b[0m \u001b[0;32mand\u001b[0m \u001b[0;34m\"b\"\u001b[0m \u001b[0;32mnot\u001b[0m \u001b[0;32min\u001b[0m \u001b[0mioargs\u001b[0m\u001b[0;34m.\u001b[0m\u001b[0mmode\u001b[0m\u001b[0;34m:\u001b[0m\u001b[0;34m\u001b[0m\u001b[0;34m\u001b[0m\u001b[0m\n\u001b[1;32m    872\u001b[0m             \u001b[0;31m# Encoding\u001b[0m\u001b[0;34m\u001b[0m\u001b[0;34m\u001b[0m\u001b[0m\n\u001b[0;32m--> 873\u001b[0;31m             handle = open(\n\u001b[0m\u001b[1;32m    874\u001b[0m                 \u001b[0mhandle\u001b[0m\u001b[0;34m,\u001b[0m\u001b[0;34m\u001b[0m\u001b[0;34m\u001b[0m\u001b[0m\n\u001b[1;32m    875\u001b[0m                 \u001b[0mioargs\u001b[0m\u001b[0;34m.\u001b[0m\u001b[0mmode\u001b[0m\u001b[0;34m,\u001b[0m\u001b[0;34m\u001b[0m\u001b[0;34m\u001b[0m\u001b[0m\n",
            "\u001b[0;31mFileNotFoundError\u001b[0m: [Errno 2] No such file or directory: 'expenses.csv'"
          ]
        }
      ]
    },
    {
      "cell_type": "markdown",
      "source": [
        "**Завдання для самостійного виконання:**\n",
        "\n",
        "Додайте стовпець \"Чистий прибуток\" = \"Прибуток\" – \"Податок\". Який місяць дав найбільший чистий прибуток?"
      ],
      "metadata": {
        "id": "u8PADa_B3eud"
      }
    },
    {
      "cell_type": "code",
      "source": [
        "# Ваш код тут"
      ],
      "metadata": {
        "id": "Z1ZX5GH03rko"
      },
      "execution_count": null,
      "outputs": []
    },
    {
      "cell_type": "markdown",
      "source": [
        "Ваши висновки тут:"
      ],
      "metadata": {
        "id": "-2S2jhIpCP5J"
      }
    },
    {
      "cell_type": "markdown",
      "source": [
        "**Задача 2: Статистика витрат**\n",
        "\n",
        "Обчисліть суму, середнє, медіану та опис витрат\n",
        "\n",
        "Виконайте приклад нижче:"
      ],
      "metadata": {
        "id": "Cn6x7RIo3wnR"
      }
    },
    {
      "cell_type": "code",
      "source": [
        "print(\"Сума:\", df[\"Витрати\"].sum())\n",
        "print(\"Середнє:\", df[\"Витрати\"].mean())\n",
        "print(\"Медіана:\", df[\"Витрати\"].median())\n",
        "print(\"Опис:\\n\", df[\"Витрати\"].describe())"
      ],
      "metadata": {
        "id": "5VXtaFiI3-MH",
        "collapsed": true
      },
      "execution_count": null,
      "outputs": []
    },
    {
      "cell_type": "markdown",
      "source": [
        "**Завдання для самостійного виконання:** Обчисліть статистику для стовпця \"Доходи\". Чи перевищує медіана доходів медіану витрат?"
      ],
      "metadata": {
        "id": "jfx47kuh4EK2"
      }
    },
    {
      "cell_type": "code",
      "source": [
        "#Ваш код тут:"
      ],
      "metadata": {
        "id": "vKeFzWxr4LHk"
      },
      "execution_count": null,
      "outputs": []
    },
    {
      "cell_type": "markdown",
      "source": [
        "Ваши висновки тут:"
      ],
      "metadata": {
        "id": "YJnlLJcvDQ6s"
      }
    },
    {
      "cell_type": "markdown",
      "source": [
        "**Задача 3: Фільтрація ефективних місяців**\n",
        "\n",
        "Умова: Знайдіть місяці, де прибуток перевищує 2500 грн.\n",
        "\n",
        "1. df[\"Прибуток\"] > 2500\n",
        "Це умова, яка перевіряє: чи значення в стовпці \"Прибуток\" більше за 2500.\n",
        "\n",
        "Результат — булева Series: True там, де прибуток > 2500, і False — де ні.\n",
        "\n",
        "Наприклад:\n",
        "\n",
        "\n",
        "```\n",
        "Січ     True\n",
        "Лют     False\n",
        "Бер     True\n",
        "...\n",
        "```\n",
        "\n",
        "2. df[ ... ]\n",
        "Це фільтрація рядків: ми залишаємо лише ті рядки, де умова True.\n",
        "\n",
        "Тобто — лише ті місяці, де прибуток перевищує 2500 грн.\n",
        "\n",
        "Виконайте приклад нижче:"
      ],
      "metadata": {
        "id": "-K7eI7fK4OYX"
      }
    },
    {
      "cell_type": "code",
      "source": [
        "profitable = df[df[\"Прибуток\"] > 2500]\n",
        "print(profitable)"
      ],
      "metadata": {
        "id": "YCjvL9DV4lgp"
      },
      "execution_count": null,
      "outputs": []
    },
    {
      "cell_type": "markdown",
      "source": [
        "**Завдання для самостійного виконання:** Знайдіть місяці, де витрати нижчі за середнє. Чи збігаються вони з місяцями високого прибутку?"
      ],
      "metadata": {
        "id": "EHctIPlh4ppY"
      }
    },
    {
      "cell_type": "code",
      "source": [
        "#Ваш код тут:"
      ],
      "metadata": {
        "id": "9qMUBenO46Co"
      },
      "execution_count": null,
      "outputs": []
    },
    {
      "cell_type": "markdown",
      "source": [
        "Ваши висновки тут:"
      ],
      "metadata": {
        "id": "yeELx-e8F2ht"
      }
    },
    {
      "cell_type": "markdown",
      "source": [
        "**Задача 4: Сортування та пошук**\n",
        "Умова: Виведіть таблицю, відсортовану за прибутком у спадному порядку.\n",
        "\n",
        "Виконайте код нижче:"
      ],
      "metadata": {
        "id": "AIfZSxDR49ZN"
      }
    },
    {
      "cell_type": "code",
      "source": [
        "sorted_df = df.sort_values(\"Прибуток\", ascending=False)\n",
        "print(sorted_df)"
      ],
      "metadata": {
        "id": "C_JhMkHK5JJk"
      },
      "execution_count": null,
      "outputs": []
    },
    {
      "cell_type": "markdown",
      "source": [
        "**Завдання для самостійного виконання:**\n",
        "\n",
        "Виведіть таблицю, відсортовану за витратами у зростаючому порядку. Який місяць має найменші витрати?"
      ],
      "metadata": {
        "id": "i9BJ9vzD5Me8"
      }
    },
    {
      "cell_type": "code",
      "source": [
        "# Ваш код тут"
      ],
      "metadata": {
        "id": "ugBkkRfy5VLx"
      },
      "execution_count": null,
      "outputs": []
    },
    {
      "cell_type": "markdown",
      "source": [
        "Ваші висновки тут:"
      ],
      "metadata": {
        "id": "g20ZbcrmNV7h"
      }
    },
    {
      "cell_type": "markdown",
      "source": [
        "**Задача 5: Динаміка витрат**\n",
        "Обчисліть абсолютну та відносну зміну витрат між місяцями.\n",
        "\n",
        "Виконайте код нижче:"
      ],
      "metadata": {
        "id": "feXeQvwd5YRh"
      }
    },
    {
      "cell_type": "code",
      "source": [
        "df[\"Δ витрат\"] = df[\"Витрати\"].diff()\n",
        "df[\"% зміна витрат\"] = df[\"Витрати\"].pct_change().round(3)\n",
        "print(df[[\"Витрати\", \"Δ витрат\", \"% зміна витрат\"]])"
      ],
      "metadata": {
        "id": "dugcutAE5hrA"
      },
      "execution_count": null,
      "outputs": []
    },
    {
      "cell_type": "markdown",
      "source": [
        "**Завдання для самостійного виконання:** Обчисліть зміну доходів (diff і pct_change). У яких місяцях доходи зросли понад 5%?"
      ],
      "metadata": {
        "id": "dnk-GNHL5mrg"
      }
    },
    {
      "cell_type": "code",
      "source": [
        "# Ваш код тут"
      ],
      "metadata": {
        "id": "w5vpkQbY5ssQ"
      },
      "execution_count": null,
      "outputs": []
    },
    {
      "cell_type": "markdown",
      "source": [
        "Ваши висновки тут:"
      ],
      "metadata": {
        "id": "7dO7XwkcNQQT"
      }
    },
    {
      "cell_type": "markdown",
      "source": [
        "**Індивідуальне завдання**\n",
        "є однакові для всіх дані:\n",
        "\n",
        "```\n",
        "df = pd.DataFrame({\n",
        "    \"Регіон\": [\"Київ\", \"Львів\", \"Одеса\", \"Харків\", \"Дніпро\", \"Запоріжжя\"],\n",
        "    \"Витрати\": [12000, 13500, 11000, 14000, 12500, 10000],\n",
        "    \"Доходи\": [15000, 16000, 14500, 17000, 15500, 13000],\n",
        "    \"Населення\": [2800, 2500, 1000, 1500, 1200, 700]\n",
        "```\n",
        "Розв'яжіть задачу свого варіанту.\n",
        "\n",
        "🔹 Варіант 1\n",
        "Обчисліть прибуток по кожному регіону. Додайте стовпець \"Податок\" (20% від прибутку). Який регіон має найбільший податок?\n",
        "\n",
        "🔹 Варіант 2\n",
        "Обчисліть витрати на одну особу в кожному регіоні. Який регіон витрачає найменше на одну людину?\n",
        "\n",
        "🔹 Варіант 3\n",
        "Обчисліть прибуток і додайте стовпець \"Чистий прибуток\" = \"Прибуток\" – \"Податок\". Відсортуйте таблицю за чистим прибутком у спадному порядку.\n",
        "\n",
        "🔹 Варіант 4\n",
        "Знайдіть регіони, де прибуток перевищує 3000 грн. Які з них мають витрати нижче середнього?\n",
        "\n",
        "🔹 Варіант 5\n",
        "Обчисліть середні витрати та доходи по всіх регіонах. Які регіони мають витрати вище середнього, але прибуток нижче середнього?\n",
        "\n",
        "🔹 Варіант 6\n",
        "Обчисліть прибуток. Виведіть таблицю, відсортовану за витратами у зростаючому порядку. Який регіон має найменші витрати, але не найвищий прибуток?\n",
        "\n",
        "🔹 Варіант 7\n",
        "Обчисліть прибуток. Додайте стовпець \"Рентабельність\" = прибуток / витрати. Який регіон має найвищу рентабельність?\n",
        "\n",
        "🔹 Варіант 8\n",
        "Обчисліть прибуток. Знайдіть регіони, де податок перевищує 600 грн. Який з них має найменше населення?\n",
        "\n",
        "🔹 Варіант 9\n",
        "Обчисліть прибуток. Побудуйте короткий статистичний опис прибутку. Які регіони мають прибуток нижче медіани?\n",
        "\n",
        "🔹 Варіант 10\n",
        "Обчисліть прибуток. Визначте, у яких регіонах витрати перевищують 13000 грн, але прибуток не перевищує 3000 грн. Які висновки можна зробити?"
      ],
      "metadata": {
        "id": "bkXnuC2F5wvu"
      }
    },
    {
      "cell_type": "code",
      "source": [
        "#Ваш код тут:"
      ],
      "metadata": {
        "id": "pFrjY9XUVS4P"
      },
      "execution_count": null,
      "outputs": []
    },
    {
      "cell_type": "markdown",
      "source": [
        "Ваші висновки тут:"
      ],
      "metadata": {
        "id": "DDq-CDqLVXJl"
      }
    }
  ]
}