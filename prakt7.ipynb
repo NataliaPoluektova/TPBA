{
  "nbformat": 4,
  "nbformat_minor": 0,
  "metadata": {
    "colab": {
      "provenance": [],
      "authorship_tag": "ABX9TyNy8a7RK5RDg2RVia5sNyAq",
      "include_colab_link": true
    },
    "kernelspec": {
      "name": "python3",
      "display_name": "Python 3"
    },
    "language_info": {
      "name": "python"
    }
  },
  "cells": [
    {
      "cell_type": "markdown",
      "metadata": {
        "id": "view-in-github",
        "colab_type": "text"
      },
      "source": [
        "<a href=\"https://colab.research.google.com/github/NataliaPoluektova/TPBA/blob/main/prakt7.ipynb\" target=\"_parent\"><img src=\"https://colab.research.google.com/assets/colab-badge.svg\" alt=\"Open In Colab\"/></a>"
      ]
    },
    {
      "cell_type": "markdown",
      "metadata": {
        "id": "iDMmyJgb1orq"
      },
      "source": [
        "# Практична робота №7\n",
        "**Тема:** Підготовка даних для аналізу\n",
        "\n",
        "## Мета роботи\n",
        "1. Навчитися очищувати, об'єднувати, перегортати, дискретизувати дані перед аналізом.\n",
        "\n",
        "Для використання DataFrame потрібно імпортувати бібліотеку pandas:"
      ]
    },
    {
      "cell_type": "code",
      "source": [
        "import pandas as pd"
      ],
      "metadata": {
        "id": "rl1hrINdEJis"
      },
      "execution_count": 2,
      "outputs": []
    },
    {
      "cell_type": "markdown",
      "source": [
        "**Завдання 1.  Очищення даних про продажі**\n",
        "Є файл Sales_q з колонками: Рік, Квартал, Товар, Продажі\n",
        "\n",
        "Переглянути його, знайти проблеми та виправити(Пропущене значення у колонці \"Продажі\" (Q3 2023),Підозрілий викид: 300000 у Q3 2024)"
      ],
      "metadata": {
        "id": "0QdfncmD3KPH"
      }
    },
    {
      "cell_type": "code",
      "source": [
        "# Завантаження даних\n",
        "df = pd.read_csv(\"https://raw.githubusercontent.com/NataliaPoluektova/TPBA/refs/heads/main/sales_q.csv\")\n",
        "print(df)\n",
        "# 1. Перевірка пропущених значень\n",
        "print(\"Пропущені значення у 'Продажі':\", df[\"Продажі\"].isna().sum())\n",
        "\n",
        "# 2. Обчислення середнього значення (без пропусків)\n",
        "mean_sales = df[\"Продажі\"].mean(skipna=True)\n",
        "print(f\"Середнє значення продажів: {mean_sales:.2f}\")\n",
        "\n",
        "# 3. Заповнення пропусків середнім\n",
        "df[\"Продажі\"] = df[\"Продажі\"].fillna(mean_sales)\n",
        "\n",
        "# 4. Визначення порогу для викидів (+100% від середнього)\n",
        "threshold = mean_sales * 2\n",
        "df[\"Викид\"] = df[\"Продажі\"] > threshold\n",
        "\n",
        "# 5. Збереження очищеного файлу\n",
        "df.to_csv(\"sales_q_cleaned.csv\", index=False)\n",
        "\n",
        "# 6. Виведення підозрілих кварталів\n",
        "print(\"Квартали з аномально високими продажами:\")\n",
        "print(df[df[\"Викид\"]][[\"Рік\", \"Квартал\", \"Продажі\"]])\n"
      ],
      "metadata": {
        "id": "4YGjXP6F1tQe",
        "colab": {
          "base_uri": "https://localhost:8080/"
        },
        "outputId": "a773cd9c-0a1f-47d9-de1d-1f79a6060a21"
      },
      "execution_count": 5,
      "outputs": [
        {
          "output_type": "stream",
          "name": "stdout",
          "text": [
            "    Рік Квартал  Товар   Продажі\n",
            "0  2023      Q1  Latte   12000.0\n",
            "1  2023      Q2  Latte   13500.0\n",
            "2  2023      Q3  Latte       NaN\n",
            "3  2023      Q4  Latte   16000.0\n",
            "4  2024      Q1  Latte   17000.0\n",
            "5  2024      Q2  Latte   18500.0\n",
            "6  2024      Q3  Latte  300000.0\n",
            "7  2024      Q4  Latte   19000.0\n",
            "Пропущені значення у 'Продажі': 1\n",
            "Середнє значення продажів: 56571.43\n",
            "Квартали з аномально високими продажами:\n",
            "    Рік Квартал   Продажі\n",
            "6  2024      Q3  300000.0\n"
          ]
        }
      ]
    },
    {
      "cell_type": "markdown",
      "source": [
        "**Завдання для самостійного виконання:**\n",
        "\n",
        "Зробіть таке ж очищення для даних з файлу clients.csv (Пропущене значення у \"Вік\" (Марія у 2024), Пропущене значення у \"Місто\" (Андрій у 2024))"
      ],
      "metadata": {
        "id": "u8PADa_B3eud"
      }
    },
    {
      "cell_type": "code",
      "source": [
        "# Ваш код тут"
      ],
      "metadata": {
        "id": "Z1ZX5GH03rko"
      },
      "execution_count": null,
      "outputs": []
    },
    {
      "cell_type": "markdown",
      "source": [
        "**Задача 2: Об’єднання даних про клієнтів і продажі\"**\n",
        "Спільні ключі: Рік, Квартал Мета: Зіставити клієнтів з квартальними продажами, проаналізувати активність по містах\n",
        "\n",
        "Об’єднання даних дозволяє:\n",
        "\n",
        "зіставити поведінку клієнтів з фінансовими результатами\n",
        "\n",
        "виявити, які міста або вікові групи пов’язані з високими продажами\n",
        "\n",
        "створити основу для сегментованої аналітики та таргетованих рішень"
      ],
      "metadata": {
        "id": "Cn6x7RIo3wnR"
      }
    },
    {
      "cell_type": "code",
      "source": [
        "\n",
        "# Завантаження даних\n",
        "df_sales = pd.read_csv(\"sales_q.csv\")\n",
        "df_clients = pd.read_csv(\"clients.csv\")\n",
        "\n",
        "# Очищення пропусків у продажах\n",
        "df_sales[\"Продажі\"] = df_sales[\"Продажі\"].fillna(df_sales[\"Продажі\"].mean())\n",
        "\n",
        "# Об'єднання по Рік і Квартал\n",
        "merged = pd.merge(df_clients, df_sales, on=[\"Рік\", \"Квартал\"], how=\"left\")\n",
        "\n",
        "# Групування: середні продажі по містах\n",
        "grouped = merged.groupby(\"Місто\")[\"Продажі\"].mean().sort_values(ascending=False)\n",
        "\n",
        "print(\"Середні продажі по містах:\")\n",
        "print(grouped)"
      ],
      "metadata": {
        "id": "5VXtaFiI3-MH",
        "collapsed": true
      },
      "execution_count": null,
      "outputs": []
    },
    {
      "cell_type": "markdown",
      "source": [
        "**Завдання для самостійного виконання:** Аналіз по кварталах\n",
        "\n",
        "Файли: sales_q.csv + clients.csv\n",
        "\n",
        "Об’єднайте таблиці по \"Рік\" і \"Квартал\" (тип left).\n",
        "\n",
        "Порахуйте середні і мвксимальні продажі по кожному кварталу\n",
        "\n",
        "Виведіть результат у вигляді таблиці.\n"
      ],
      "metadata": {
        "id": "jfx47kuh4EK2"
      }
    },
    {
      "cell_type": "code",
      "source": [
        "#Ваш код тут:"
      ],
      "metadata": {
        "id": "vKeFzWxr4LHk"
      },
      "execution_count": null,
      "outputs": []
    },
    {
      "cell_type": "markdown",
      "source": [
        "Ваши висновки тут:"
      ],
      "metadata": {
        "id": "YJnlLJcvDQ6s"
      }
    },
    {
      "cell_type": "markdown",
      "source": [
        "**Задача 3: Дискретизація віку клієнтів**\n",
        "\n",
        "Розбити клієнтів на вікові групи для подальшого аналізу\n",
        "\n",
        "Дискретизація (або бінінг) — це розбиття числових значень на категорії. У бізнес-аналітиці це дозволяє:\n",
        "\n",
        "сегментувати клієнтів за віком, доходом, витратами\n",
        "\n",
        "будувати таргетовані пропозиції\n",
        "\n",
        "виявляти закономірності в поведінці груп\n",
        "\n",
        "У pandas це робиться через pd.cut() або pd.qcut()."
      ],
      "metadata": {
        "id": "-K7eI7fK4OYX"
      }
    },
    {
      "cell_type": "code",
      "source": [
        "# Завантаження даних\n",
        "df = pd.read_csv(\"clients.csv\")\n",
        "\n",
        "# Заповнення пропусків у віці\n",
        "df[\"Вік\"] = df[\"Вік\"].fillna(df[\"Вік\"].mean())\n",
        "\n",
        "# Визначення вікових груп\n",
        "bins = [0, 30, 45, 100]\n",
        "labels = [\"<30\", \"30–45\", \"45+\"]\n",
        "\n",
        "# Дискретизація\n",
        "df[\"Вікова група\"] = pd.cut(df[\"Вік\"], bins=bins, labels=labels)\n",
        "\n",
        "# Виведення кількості клієнтів у кожній групі\n",
        "print(\"Розподіл клієнтів за віком:\")\n",
        "print(df[\"Вікова група\"].value_counts())"
      ],
      "metadata": {
        "id": "YCjvL9DV4lgp"
      },
      "execution_count": null,
      "outputs": []
    },
    {
      "cell_type": "markdown",
      "source": [
        "**Завдання для самостійного виконання:** Для задачі 3 порахуйте середні продажі для кожної вікової групи. Яка група найактивніша?\n",
        "\n",
        "Виведіть результат у вигляді таблиці."
      ],
      "metadata": {
        "id": "EHctIPlh4ppY"
      }
    },
    {
      "cell_type": "code",
      "source": [
        "#Ваш код тут:"
      ],
      "metadata": {
        "id": "9qMUBenO46Co"
      },
      "execution_count": null,
      "outputs": []
    },
    {
      "cell_type": "markdown",
      "source": [
        "Ваши висновки тут:"
      ],
      "metadata": {
        "id": "yeELx-e8F2ht"
      }
    },
    {
      "cell_type": "markdown",
      "source": [
        "**Задача 4: Перегрупування по ієрархічних індексах**\n",
        "Файл: sales_q.csv\n",
        "Колонки: Рік, Квартал, Товар, Продажі Мета: Створити багаторівневу структуру для гнучкого аналізу\n",
        "\n",
        "Виконайте код нижче:"
      ],
      "metadata": {
        "id": "AIfZSxDR49ZN"
      }
    },
    {
      "cell_type": "code",
      "source": [
        "# Завантаження даних\n",
        "df = pd.read_csv(\"sales_q.csv\")\n",
        "\n",
        "# Заповнення пропусків\n",
        "df[\"Продажі\"] = df[\"Продажі\"].fillna(df[\"Продажі\"].mean())\n",
        "\n",
        "# Групування по Рік і Квартал\n",
        "grouped = df.groupby([\"Рік\", \"Квартал\"]).agg({\"Продажі\": \"sum\"})\n",
        "\n",
        "# Перетворення в ієрархічний індекс\n",
        "grouped.index = pd.MultiIndex.from_tuples(grouped.index, names=[\"Рік\", \"Квартал\"])\n",
        "\n",
        "# Виведення результату\n",
        "print(\"Продажі по роках і кварталах:\")\n",
        "print(grouped)"
      ],
      "metadata": {
        "id": "C_JhMkHK5JJk"
      },
      "execution_count": null,
      "outputs": []
    },
    {
      "cell_type": "markdown",
      "source": [
        "**Завдання для самостійного виконання:**\n",
        "\n",
        "Перегрупування клієнтів\n",
        "Файл: clients.csv\n",
        "\n",
        "Створіть групування по \"Місто\" і \"Рік\".\n",
        "\n",
        "Порахуйте кількість клієнтів у кожному місті за кожен рік.\n",
        "\n",
        "Перетворіть індекс на ієрархічний (Місто, Рік).\n",
        "\n",
        "Виведіть таблицю, де видно активність по містах у 2023 і 2024."
      ],
      "metadata": {
        "id": "i9BJ9vzD5Me8"
      }
    },
    {
      "cell_type": "code",
      "source": [
        "# Ваш код тут"
      ],
      "metadata": {
        "id": "ugBkkRfy5VLx"
      },
      "execution_count": null,
      "outputs": []
    },
    {
      "cell_type": "markdown",
      "source": [
        "Ваші висновки тут:"
      ],
      "metadata": {
        "id": "g20ZbcrmNV7h"
      }
    },
    {
      "cell_type": "markdown",
      "source": [
        "**Задача 5: Нормалізація числових ознак**\n",
        "Файл: clients_sales_merged.csv\n",
        "Колонки: Вік, Продажі\n",
        "\n",
        "Мета: Привести числові ознаки до єдиної шкали для порівняння та подальшого аналізу\n",
        "\n",
        "Нормалізація — це перетворення числових значень у діапазон [0, 1]. Це важливо, коли:\n",
        "\n",
        "ознаки мають різні одиниці виміру (наприклад, гривні vs роки)\n",
        "\n",
        "потрібно порівнювати або агрегувати різні показники\n",
        "\n",
        "готується модель машинного навчання (наприклад, кластеризація)\n",
        "\n",
        "📌 Формула мін-макс нормалізації:\n",
        "![image.png](data:image/png;base64,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)\n",
        "\n",
        "Виконайте код нижче:"
      ],
      "metadata": {
        "id": "feXeQvwd5YRh"
      }
    },
    {
      "cell_type": "code",
      "source": [
        "import pandas as pd\n",
        "from sklearn.preprocessing import MinMaxScaler\n",
        "\n",
        "# Завантаження об'єднаних даних\n",
        "df = pd.read_csv(\"clients_sales_merged.csv\")\n",
        "\n",
        "# Заповнення пропусків\n",
        "df[\"Вік\"] = df[\"Вік\"].fillna(df[\"Вік\"].mean())\n",
        "df[\"Продажі\"] = df[\"Продажі\"].fillna(df[\"Продажі\"].mean())\n",
        "\n",
        "# Ініціалізація нормалізатора\n",
        "scaler = MinMaxScaler()\n",
        "\n",
        "# Нормалізація двох колонок\n",
        "df[[\"Вік_norm\", \"Продажі_norm\"]] = scaler.fit_transform(df[[\"Вік\", \"Продажі\"]])\n",
        "\n",
        "# Виведення результату\n",
        "print(df[[\"Клієнт\", \"Вік\", \"Вік_norm\", \"Продажі\", \"Продажі_norm\"]].head())"
      ],
      "metadata": {
        "id": "dugcutAE5hrA"
      },
      "execution_count": null,
      "outputs": []
    },
    {
      "cell_type": "markdown",
      "source": [
        "** Завдання для самостійного виконання:** Побудова індексу активності\n",
        "Файл: clients_sales_merged.csv\n",
        "\n",
        "Завдання:\n",
        "Нормалізуйте \"Вік\" і \"Продажі\" у діапазон [0, 1].\n",
        "\n",
        "Створіть нову колонку \"Індекс активності\" як середнє між нормалізованим віком і продажами.\n",
        "\n",
        "Виведіть топ-5 клієнтів з найвищим індексом."
      ],
      "metadata": {
        "id": "dnk-GNHL5mrg"
      }
    },
    {
      "cell_type": "code",
      "source": [
        "# Ваш код тут"
      ],
      "metadata": {
        "id": "w5vpkQbY5ssQ"
      },
      "execution_count": null,
      "outputs": []
    },
    {
      "cell_type": "markdown",
      "source": [
        "Ваши висновки тут:"
      ],
      "metadata": {
        "id": "7dO7XwkcNQQT"
      }
    },
    {
      "cell_type": "markdown",
      "source": [
        "**Індивідуальне завдання**\n",
        "Для даних з файлів, які використовувались в цій практичній роботі\n",
        "\n",
        "Розв'яжіть задачу свого варіанту.\n",
        "\n",
        "1️⃣ Оцінка якості даних\n",
        "Порахуйте частку пропущених значень у кожній колонці.\n",
        "\n",
        "Виведіть топ-3 колонки з найбільшими проблемами.\n",
        "\n",
        "2️⃣ Виявлення дублікатів\n",
        "Знайдіть дублікати по \"Клієнт\" + \"Рік\" + \"Квартал\".\n",
        "\n",
        "Видаліть їх і порівняйте розмір таблиці до/після.\n",
        "\n",
        "3️⃣ Фільтрація за віковими групами\n",
        "Виведіть клієнтів віком <30, які мають продажі вище середнього.\n",
        "\n",
        "Скільки таких клієнтів у кожному місті?\n",
        "\n",
        "4️⃣ Порівняння нормалізованих ознак\n",
        "Побудуйте нову колонку \"Активність\" як різницю між Продажі_norm і Вік_norm.\n",
        "\n",
        "Виведіть топ-5 клієнтів з найвищою активністю.\n",
        "\n",
        "5️⃣ Аналіз сезонності\n",
        "Згрупуйте продажі по \"Квартал\" і побудуйте таблицю середніх значень.\n",
        "\n",
        "Який квартал найактивніший?\n",
        "\n",
        "6️⃣ Об’єднання з перевіркою відповідності\n",
        "Після об’єднання clients.csv і sales_q.csv, перевірте:\n",
        "\n",
        "чи всі клієнти мають продажі?\n",
        "\n",
        "чи всі продажі мають клієнтів?\n",
        "\n",
        "7️⃣ Групування по містах і роках\n",
        "Побудуйте ієрархічну таблицю \"Місто\" → \"Рік\" → кількість клієнтів.\n",
        "\n",
        "Виведіть міста з ростом активності у 2024.\n",
        "\n",
        "8️⃣ Створення категорії “Проблемний запис”\n",
        "Позначте рядки, де є пропуски або викиди, як \"Проблемний\" = True.\n",
        "\n",
        "Порахуйте частку таких записів.\n",
        "\n",
        "9️⃣ Дискретизація продажів\n",
        "Розбийте \"Продажі\" на категорії: Низькі, Середні, Високі.\n",
        "\n",
        "Порівняйте віковий склад клієнтів у кожній групі.\n",
        "\n",
        "🔟 Побудова індексу довіри до запису\n",
        "Створіть колонку \"Довіра\":\n",
        "\n",
        "1.0 — якщо немає пропусків і викидів\n",
        "\n",
        "0.5 — якщо є пропуски, але заповнені\n",
        "\n",
        "0.0 — якщо є викиди"
      ],
      "metadata": {
        "id": "bkXnuC2F5wvu"
      }
    },
    {
      "cell_type": "code",
      "source": [
        "#Ваш код тут:"
      ],
      "metadata": {
        "id": "pFrjY9XUVS4P"
      },
      "execution_count": null,
      "outputs": []
    },
    {
      "cell_type": "markdown",
      "source": [
        "Ваші висновки тут:"
      ],
      "metadata": {
        "id": "DDq-CDqLVXJl"
      }
    }
  ]
}